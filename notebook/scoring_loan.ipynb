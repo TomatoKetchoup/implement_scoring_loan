{
 "cells": [
  {
   "cell_type": "markdown",
   "id": "dc104bcf",
   "metadata": {},
   "source": [
    "jupyter notebook --NotebookApp.iopub_data_rate_limit=7368709120"
   ]
  },
  {
   "cell_type": "code",
   "execution_count": 1,
   "id": "9865d27c",
   "metadata": {},
   "outputs": [
    {
     "name": "stdout",
     "output_type": "stream",
     "text": [
      "Once deleted, variables cannot be recovered. Proceed (y/[n])? y\n"
     ]
    }
   ],
   "source": [
    "# Reset memory\n",
    "\n",
    "%reset"
   ]
  },
  {
   "cell_type": "code",
   "execution_count": 2,
   "id": "b7e5dcf6",
   "metadata": {},
   "outputs": [],
   "source": [
    "# General Imports\n",
    "import warnings\n",
    "import joblib\n",
    "import numpy as np\n",
    "import pandas as pd\n",
    "import matplotlib.pyplot as plt\n",
    "import pickle\n",
    "from collections import Counter\n",
    "\n",
    "# Imports for Model Evaluation\n",
    "from scipy.stats import spearmanr\n",
    "from sklearn.model_selection import train_test_split, StratifiedKFold, GridSearchCV\n",
    "from sklearn.dummy import DummyClassifier\n",
    "from sklearn.metrics import plot_confusion_matrix, accuracy_score, ConfusionMatrixDisplay, roc_auc_score, confusion_matrix\n",
    "\n",
    "# Imports for Data Transformation\n",
    "from sklearn.compose import ColumnTransformer, make_column_transformer, TransformedTargetRegressor\n",
    "from sklearn.pipeline import make_pipeline, Pipeline \n",
    "from sklearn.preprocessing import PowerTransformer\n",
    "\n",
    "# Imports for Oversampling and Undersampling\n",
    "from imblearn.over_sampling import SMOTE\n",
    "from imblearn.under_sampling import RandomUnderSampler\n",
    "from imblearn.pipeline import Pipeline as ImbPipeline\n",
    "\n",
    "# Imports for Models\n",
    "import mlflow\n",
    "import xgboost\n",
    "from xgboost import XGBClassifier\n",
    "from sklearn.feature_selection import SelectPercentile, f_classif\n",
    "from sklearn.linear_model import LogisticRegression\n",
    "from sklearn.neighbors import KNeighborsClassifier\n",
    "from sklearn.svm import SVC\n",
    "from sklearn.ensemble import RandomForestClassifier, GradientBoostingClassifier\n",
    "\n",
    "# Imports for LIME\n",
    "import lime\n",
    "import lime.lime_tabular\n",
    "\n",
    "\n",
    "from sklearn.feature_selection import RFE\n",
    "from sklearn.linear_model import LogisticRegression"
   ]
  },
  {
   "cell_type": "markdown",
   "id": "300bc571",
   "metadata": {},
   "source": [
    "# DATA IMPORT"
   ]
  },
  {
   "cell_type": "code",
   "execution_count": 3,
   "id": "0917621c",
   "metadata": {},
   "outputs": [],
   "source": [
    "df = pd.read_csv('C:/Users/td/implement_scoring_loan/notebook/data_cleaned.csv')"
   ]
  },
  {
   "cell_type": "code",
   "execution_count": 4,
   "id": "c190bfe9",
   "metadata": {},
   "outputs": [
    {
     "data": {
      "text/html": [
       "<div>\n",
       "<style scoped>\n",
       "    .dataframe tbody tr th:only-of-type {\n",
       "        vertical-align: middle;\n",
       "    }\n",
       "\n",
       "    .dataframe tbody tr th {\n",
       "        vertical-align: top;\n",
       "    }\n",
       "\n",
       "    .dataframe thead th {\n",
       "        text-align: right;\n",
       "    }\n",
       "</style>\n",
       "<table border=\"1\" class=\"dataframe\">\n",
       "  <thead>\n",
       "    <tr style=\"text-align: right;\">\n",
       "      <th></th>\n",
       "      <th>SK_ID_CURR</th>\n",
       "      <th>TARGET</th>\n",
       "      <th>CODE_GENDER</th>\n",
       "      <th>FLAG_OWN_CAR</th>\n",
       "      <th>FLAG_OWN_REALTY</th>\n",
       "      <th>CNT_CHILDREN</th>\n",
       "      <th>AMT_INCOME_TOTAL</th>\n",
       "      <th>AMT_CREDIT</th>\n",
       "      <th>AMT_ANNUITY</th>\n",
       "      <th>AMT_GOODS_PRICE</th>\n",
       "      <th>...</th>\n",
       "      <th>CC_NAME_CONTRACT_STATUS_Signed_MAX</th>\n",
       "      <th>CC_NAME_CONTRACT_STATUS_Signed_MEAN</th>\n",
       "      <th>CC_NAME_CONTRACT_STATUS_Signed_SUM</th>\n",
       "      <th>CC_NAME_CONTRACT_STATUS_Signed_VAR</th>\n",
       "      <th>CC_NAME_CONTRACT_STATUS_nan_MIN</th>\n",
       "      <th>CC_NAME_CONTRACT_STATUS_nan_MAX</th>\n",
       "      <th>CC_NAME_CONTRACT_STATUS_nan_MEAN</th>\n",
       "      <th>CC_NAME_CONTRACT_STATUS_nan_SUM</th>\n",
       "      <th>CC_NAME_CONTRACT_STATUS_nan_VAR</th>\n",
       "      <th>CC_COUNT</th>\n",
       "    </tr>\n",
       "  </thead>\n",
       "  <tbody>\n",
       "    <tr>\n",
       "      <th>0</th>\n",
       "      <td>100002</td>\n",
       "      <td>1.0</td>\n",
       "      <td>0</td>\n",
       "      <td>0</td>\n",
       "      <td>0</td>\n",
       "      <td>0</td>\n",
       "      <td>202500.0</td>\n",
       "      <td>406597.5</td>\n",
       "      <td>24700.5</td>\n",
       "      <td>351000.0</td>\n",
       "      <td>...</td>\n",
       "      <td>0.0</td>\n",
       "      <td>0.0</td>\n",
       "      <td>0.0</td>\n",
       "      <td>0.0</td>\n",
       "      <td>0.0</td>\n",
       "      <td>0.0</td>\n",
       "      <td>0.0</td>\n",
       "      <td>0.0</td>\n",
       "      <td>0.0</td>\n",
       "      <td>22.0</td>\n",
       "    </tr>\n",
       "    <tr>\n",
       "      <th>1</th>\n",
       "      <td>100003</td>\n",
       "      <td>0.0</td>\n",
       "      <td>1</td>\n",
       "      <td>0</td>\n",
       "      <td>1</td>\n",
       "      <td>0</td>\n",
       "      <td>270000.0</td>\n",
       "      <td>1293502.5</td>\n",
       "      <td>35698.5</td>\n",
       "      <td>1129500.0</td>\n",
       "      <td>...</td>\n",
       "      <td>0.0</td>\n",
       "      <td>0.0</td>\n",
       "      <td>0.0</td>\n",
       "      <td>0.0</td>\n",
       "      <td>0.0</td>\n",
       "      <td>0.0</td>\n",
       "      <td>0.0</td>\n",
       "      <td>0.0</td>\n",
       "      <td>0.0</td>\n",
       "      <td>22.0</td>\n",
       "    </tr>\n",
       "    <tr>\n",
       "      <th>2</th>\n",
       "      <td>100004</td>\n",
       "      <td>0.0</td>\n",
       "      <td>0</td>\n",
       "      <td>1</td>\n",
       "      <td>0</td>\n",
       "      <td>0</td>\n",
       "      <td>67500.0</td>\n",
       "      <td>135000.0</td>\n",
       "      <td>6750.0</td>\n",
       "      <td>135000.0</td>\n",
       "      <td>...</td>\n",
       "      <td>0.0</td>\n",
       "      <td>0.0</td>\n",
       "      <td>0.0</td>\n",
       "      <td>0.0</td>\n",
       "      <td>0.0</td>\n",
       "      <td>0.0</td>\n",
       "      <td>0.0</td>\n",
       "      <td>0.0</td>\n",
       "      <td>0.0</td>\n",
       "      <td>22.0</td>\n",
       "    </tr>\n",
       "  </tbody>\n",
       "</table>\n",
       "<p>3 rows × 797 columns</p>\n",
       "</div>"
      ],
      "text/plain": [
       "   SK_ID_CURR  TARGET  CODE_GENDER  FLAG_OWN_CAR  FLAG_OWN_REALTY  \\\n",
       "0      100002     1.0            0             0                0   \n",
       "1      100003     0.0            1             0                1   \n",
       "2      100004     0.0            0             1                0   \n",
       "\n",
       "   CNT_CHILDREN  AMT_INCOME_TOTAL  AMT_CREDIT  AMT_ANNUITY  AMT_GOODS_PRICE  \\\n",
       "0             0          202500.0    406597.5      24700.5         351000.0   \n",
       "1             0          270000.0   1293502.5      35698.5        1129500.0   \n",
       "2             0           67500.0    135000.0       6750.0         135000.0   \n",
       "\n",
       "   ...  CC_NAME_CONTRACT_STATUS_Signed_MAX  \\\n",
       "0  ...                                 0.0   \n",
       "1  ...                                 0.0   \n",
       "2  ...                                 0.0   \n",
       "\n",
       "   CC_NAME_CONTRACT_STATUS_Signed_MEAN  CC_NAME_CONTRACT_STATUS_Signed_SUM  \\\n",
       "0                                  0.0                                 0.0   \n",
       "1                                  0.0                                 0.0   \n",
       "2                                  0.0                                 0.0   \n",
       "\n",
       "   CC_NAME_CONTRACT_STATUS_Signed_VAR  CC_NAME_CONTRACT_STATUS_nan_MIN  \\\n",
       "0                                 0.0                              0.0   \n",
       "1                                 0.0                              0.0   \n",
       "2                                 0.0                              0.0   \n",
       "\n",
       "   CC_NAME_CONTRACT_STATUS_nan_MAX  CC_NAME_CONTRACT_STATUS_nan_MEAN  \\\n",
       "0                              0.0                               0.0   \n",
       "1                              0.0                               0.0   \n",
       "2                              0.0                               0.0   \n",
       "\n",
       "   CC_NAME_CONTRACT_STATUS_nan_SUM  CC_NAME_CONTRACT_STATUS_nan_VAR  CC_COUNT  \n",
       "0                              0.0                              0.0      22.0  \n",
       "1                              0.0                              0.0      22.0  \n",
       "2                              0.0                              0.0      22.0  \n",
       "\n",
       "[3 rows x 797 columns]"
      ]
     },
     "execution_count": 4,
     "metadata": {},
     "output_type": "execute_result"
    }
   ],
   "source": [
    "df.head(3)"
   ]
  },
  {
   "cell_type": "code",
   "execution_count": 5,
   "id": "163c12ae",
   "metadata": {},
   "outputs": [],
   "source": [
    "X=df.drop(['TARGET'],axis=1)\n",
    "\n",
    "y=df['TARGET']"
   ]
  },
  {
   "cell_type": "markdown",
   "id": "6b5164fc",
   "metadata": {},
   "source": [
    "# Imbalanced Class"
   ]
  },
  {
   "cell_type": "code",
   "execution_count": 12,
   "id": "426cf482",
   "metadata": {},
   "outputs": [
    {
     "name": "stdout",
     "output_type": "stream",
     "text": [
      "Class=1 -- Count=24825 -- Percentage=8.073%\n",
      "Class=0 -- Count=282682 -- Percentage=91.927%\n"
     ]
    }
   ],
   "source": [
    "# summarize the class distribution\n",
    "counter = Counter(y)\n",
    "for k,v in counter.items():\n",
    "    per = v / len(y) * 100\n",
    "    print('Class=%d -- Count=%d -- Percentage=%.3f%%' % (k, v, per))"
   ]
  },
  {
   "cell_type": "code",
   "execution_count": 13,
   "id": "98dbd4e4",
   "metadata": {},
   "outputs": [],
   "source": [
    "# Split data to train and test sets\n",
    "X_train, X_test, y_train, y_test = train_test_split(X, y, test_size=0.2, random_state=39)\n",
    "\n",
    "# Équilibrage des données en utilisant SMOTE\n",
    "over = SMOTE(sampling_strategy=0.2)\n",
    "under = RandomUnderSampler(sampling_strategy=0.5)\n",
    "\n",
    "steps = [('o', over), ('u', under)]\n",
    "sampling_pipeline = ImbPipeline(steps=steps)\n",
    "\n",
    "# transform the dataset\n",
    "X_train_resampled, y_train_resampled= sampling_pipeline.fit_resample(X_train, y_train)"
   ]
  },
  {
   "cell_type": "code",
   "execution_count": 14,
   "id": "fff85bb3",
   "metadata": {},
   "outputs": [
    {
     "data": {
      "text/plain": [
       "0.0    0.666667\n",
       "1.0    0.333333\n",
       "Name: TARGET, dtype: float64"
      ]
     },
     "execution_count": 14,
     "metadata": {},
     "output_type": "execute_result"
    }
   ],
   "source": [
    "y_train_resampled.value_counts()/len(y_train_resampled)"
   ]
  },
  {
   "cell_type": "markdown",
   "id": "13e9950f",
   "metadata": {},
   "source": [
    "# Features Selection"
   ]
  },
  {
   "cell_type": "code",
   "execution_count": 15,
   "id": "ef8fd04e",
   "metadata": {},
   "outputs": [],
   "source": [
    "# Selection of the most important features\n",
    "selector = SelectPercentile(score_func=f_classif, percentile=2)"
   ]
  },
  {
   "cell_type": "code",
   "execution_count": 16,
   "id": "65314e97",
   "metadata": {},
   "outputs": [
    {
     "name": "stderr",
     "output_type": "stream",
     "text": [
      "c:\\users\\td\\appdata\\local\\programs\\python\\python39\\lib\\site-packages\\sklearn\\feature_selection\\_univariate_selection.py:110: UserWarning: Features [ 15 277 282 288 294 298 307 396 404 407 433 438 443 453 466 468 481 495\n",
      " 501 505 514 526 532 626 627 745 750 760 761 762 763 764 770 775 780 790\n",
      " 791 792 793 794] are constant.\n",
      "  warnings.warn(\"Features %s are constant.\" % constant_features_idx, UserWarning)\n",
      "c:\\users\\td\\appdata\\local\\programs\\python\\python39\\lib\\site-packages\\sklearn\\feature_selection\\_univariate_selection.py:111: RuntimeWarning: invalid value encountered in true_divide\n",
      "  f = msb / msw\n"
     ]
    }
   ],
   "source": [
    "# Feature Selection using  Selector\n",
    "X_train_new = selector.fit_transform(X_train_resampled, y_train_resampled)\n",
    "X_test_new = selector.transform(X_test)"
   ]
  },
  {
   "cell_type": "code",
   "execution_count": 17,
   "id": "429812e2",
   "metadata": {},
   "outputs": [
    {
     "data": {
      "image/png": "[encoded data removed]",
      "text/plain": [
       "<Figure size 720x1440 with 1 Axes>"
      ]
     },
     "metadata": {
      "needs_background": "light"
     },
     "output_type": "display_data"
    }
   ],
   "source": [
    "# Getting feature scores\n",
    "scores = selector.scores_\n",
    "\n",
    "# Getting feature names\n",
    "feature_names = X.columns.values\n",
    "\n",
    "# Getting a boolean array indicating the selected features\n",
    "mask = selector.get_support()\n",
    "\n",
    "# Getting names and scores of the selected features\n",
    "selected_feature_names = feature_names[mask]\n",
    "selected_scores = scores[mask]\n",
    "\n",
    "# Sorting names and scores in descending order of contribution weight\n",
    "sorted_indices = np.argsort(selected_scores)\n",
    "sorted_feature_names = selected_feature_names[sorted_indices]\n",
    "sorted_scores = selected_scores[sorted_indices]\n",
    "\n",
    "# Calculating contribution weights for each feature\n",
    "weights = sorted_scores / np.sum(sorted_scores)\n",
    "\n",
    "# Creating a rainbow-colored bar plot sorted by descending contribution weight\n",
    "fig, ax = plt.subplots(figsize=(10, 20))\n",
    "colors = plt.cm.rainbow(np.linspace(0, 1, len(sorted_feature_names)))\n",
    "ax.barh(sorted_feature_names, weights, color=colors)\n",
    "ax.set_xlabel('Contribution Weight')\n",
    "ax.set_ylabel('Features')\n",
    "ax.set_title('Feature Importance')\n",
    "\n",
    "# Tilting variable names at a 45-degree angle\n",
    "plt.xticks(rotation=45)\n",
    "\n",
    "plt.show()\n"
   ]
  },
  {
   "cell_type": "code",
   "execution_count": 18,
   "id": "5d1a2ece",
   "metadata": {},
   "outputs": [],
   "source": [
    "with open('C:/Users/td/implement_scoring_loan/dashboard/selected_feature_names.pkl', 'wb') as f:\n",
    "    pickle.dump(selected_feature_names, f)"
   ]
  },
  {
   "cell_type": "code",
   "execution_count": 19,
   "id": "a4b9ee4a",
   "metadata": {},
   "outputs": [
    {
     "data": {
      "text/plain": [
       "(16,)"
      ]
     },
     "execution_count": 19,
     "metadata": {},
     "output_type": "execute_result"
    }
   ],
   "source": [
    "selected_feature_names.shape"
   ]
  },
  {
   "cell_type": "markdown",
   "id": "b1b28a34",
   "metadata": {},
   "source": [
    "# Dummy"
   ]
  },
  {
   "cell_type": "markdown",
   "id": "a4c97f10",
   "metadata": {},
   "source": [
    "Before we can improve our model, we need a baseline."
   ]
  },
  {
   "cell_type": "code",
   "execution_count": 20,
   "id": "17890727",
   "metadata": {},
   "outputs": [],
   "source": [
    "clf_dummy = DummyClassifier(random_state=39) \n",
    "#establishing random_state for reproducibility\n",
    "clf_dummy.fit(X_train,y_train)\n",
    "y_pred = clf_dummy.predict(X_test)"
   ]
  },
  {
   "cell_type": "code",
   "execution_count": 21,
   "id": "e950e749",
   "metadata": {},
   "outputs": [
    {
     "data": {
      "image/png": "[encoded data removed]",
      "text/plain": [
       "<Figure size 576x576 with 2 Axes>"
      ]
     },
     "metadata": {
      "needs_background": "light"
     },
     "output_type": "display_data"
    }
   ],
   "source": [
    "# Calculer la matrice de confusion\n",
    "cm = confusion_matrix(y_test, y_pred)\n",
    "\n",
    "# Créer un objet ConfusionMatrixDisplay avec la matrice de confusion\n",
    "cm_display = ConfusionMatrixDisplay(confusion_matrix=cm)\n",
    "\n",
    "# Afficher la matrice de confusion avec des étiquettes\n",
    "fig, ax = plt.subplots(figsize=(8, 8))\n",
    "cm_display.plot(ax=ax, cmap='Oranges')\n",
    "\n",
    "# Ajouter des étiquettes aux cellules de la matrice de confusion\n",
    "ax.text(0, 0, '\\n True Negatives', ha='center', va='top')\n",
    "ax.text(0, 1, '\\nFalse Negatives',ha='center', va='top')\n",
    "ax.text(1, 0, '\\nFalse Positives',ha='center', va='top')\n",
    "ax.text(1, 1, '\\nTrue Positives',ha='center', va='top')\n",
    "\n",
    "# Ajouter un titre et des étiquettes d'axe\n",
    "ax.set_title('Confusion Matrix')\n",
    "ax.set_xlabel('Predicted Label')\n",
    "ax.set_ylabel('True Label');"
   ]
  },
  {
   "cell_type": "markdown",
   "id": "11056d05",
   "metadata": {},
   "source": [
    "## MLFLOW UI"
   ]
  },
  {
   "cell_type": "code",
   "execution_count": 21,
   "id": "9c179e3a",
   "metadata": {},
   "outputs": [],
   "source": [
    "def score_metier(y_true,y_pred):\n",
    "    cost_fn = 10 # Coût d'un FN est dix fois supérieur au coût d'un FP\n",
    "    cost_fp = 1\n",
    "    # Matrice de confusion pour calculer le nombre de FN et de FP\n",
    "    confusion_matrix = np.array([[np.sum((y_pred == 0) & (y_true == 0)), np.sum((y_pred == 1) & (y_true == 0))],\n",
    "                                 [np.sum((y_pred == 0) & (y_true == 1)), np.sum((y_pred == 1) & (y_true == 1))]])\n",
    "    score_metier = cost_fp * confusion_matrix[0,1] + cost_fn * confusion_matrix[1,0]\n",
    "    return score_metier"
   ]
  },
  {
   "cell_type": "code",
   "execution_count": null,
   "id": "3a5329e7",
   "metadata": {},
   "outputs": [],
   "source": [
    "selector = ColumnTransformer(\n",
    "    transformers=[('select', 'passthrough', feature_names)],\n",
    "    remainder='drop'\n",
    ")"
   ]
  },
  {
   "cell_type": "code",
   "execution_count": 20,
   "id": "20237116",
   "metadata": {},
   "outputs": [],
   "source": [
    "cv = StratifiedKFold(n_splits=5)"
   ]
  },
  {
   "cell_type": "code",
   "execution_count": 15,
   "id": "45c885b5",
   "metadata": {},
   "outputs": [],
   "source": [
    "\n",
    "# Transform Features\n",
    "\n",
    "preprocessor=PowerTransformer(method='yeo-johnson',standardize=True)"
   ]
  },
  {
   "cell_type": "code",
   "execution_count": 20,
   "id": "f536ff5a",
   "metadata": {},
   "outputs": [],
   "source": [
    "param_log_reg = {'model__penalty': ['l1', 'l2'],\n",
    "                 'model__C': np.logspace(-4, 4, 20)}\n",
    "\n",
    "param_knn = {'model__n_neighbors': [3, 5, 11],\n",
    "             'model__weights': ['uniform', 'distance'],\n",
    "             'model__algorithm': ['auto', 'ball_tree']}\n",
    "\n",
    "\n",
    "param_svm = {'model__C': [0.1, 1, 10],\n",
    "             'model__kernel': ['linear', 'poly'],\n",
    "             'model__gamma': ['scale', 'auto']}\n",
    "\n",
    "param_rf = {'model__n_estimators': [100, 200],\n",
    "            'model__max_depth': [5, 20],\n",
    "            'model__min_samples_split': [2, 5],\n",
    "            'model__min_samples_leaf': [1, 2,],\n",
    "            'model__max_features': ['auto', 'sqrt'],\n",
    "            'model__bootstrap': [True, False]}\n",
    "\n",
    "param_gbm = {'model__learning_rate': [0.1, 0.2],\n",
    "             'model__n_estimators': [100, 200],\n",
    "             'model__max_depth': [3, 4, 5]}\n",
    "\n",
    "param_Xgboost = {'model__n_estimators': [50,100],\n",
    "                 'model__max_depth': [3, 4],\n",
    "                 'model__learning_rate': [0.01, 0.2]}"
   ]
  },
  {
   "cell_type": "code",
   "execution_count": 21,
   "id": "42678ac1",
   "metadata": {},
   "outputs": [],
   "source": [
    "# Dictionnaire de classifieurs \n",
    "models_ = { 'Logistic Regression':{'model':LogisticRegression(),'params':param_log_reg},\n",
    "           'KNN':{'model': KNeighborsClassifier(), 'params': param_knn},\n",
    "           'Gradient Booster Classifier':{'model': GradientBoostingClassifier(), 'params': param_gbm},\n",
    "            'Xgboost':{'model': XGBClassifier(), 'params':param_Xgboost}\n",
    "              }"
   ]
  },
  {
   "cell_type": "code",
   "execution_count": 21,
   "id": "46d9915b",
   "metadata": {},
   "outputs": [],
   "source": [
    "def train_model(model_name, model_params, preprocessor, cv):\n",
    "    ## TODO IMBALANCED PIPE\n",
    "    pipe = Pipeline(steps=[('preprocessor', preprocessor), ('model', model_name)])\n",
    "    gscv = GridSearchCV(pipe, param_grid=model_params, cv=cv, scoring='accuracy', n_jobs=-1)\n",
    "    gscv.fit(X_train_new, y_train_resampled)\n",
    "    gscv_best = gscv.best_estimator_\n",
    "#     for i, params in enumerate(gscv.cv_results_['params']):\n",
    "    with mlflow.start_run(run_name=model):\n",
    "#         mlflow.log_params(gscv_best.best_params)\n",
    "        mlflow.log_params(gscv.best_params_)\n",
    "        mlflow.sklearn.log_model(gscv_best, \"modele_regression_logistique_without_preprocessor\")\n",
    "        probabilities = gscv_best.predict_proba(X_test_new)\n",
    "        threshold = 0.7\n",
    "        y_pred = np.where(probabilities[:, 1] >= threshold, 1, 0)\n",
    "        mlflow.log_metric(\"score_auc\", roc_auc_score(y_test, y_pred))\n",
    "\n",
    "        mlflow.log_metric('score_metier', score_metier(y_test, y_pred))"
   ]
  },
  {
   "cell_type": "code",
   "execution_count": null,
   "id": "69d8e5b2",
   "metadata": {},
   "outputs": [],
   "source": [
    "mlflow.set_experiment('Scoring_loan_classifier')\n",
    "for model in models_.keys():\n",
    "    train_model(models_[model]['model'],models_[model]['params'],preprocessor,cv)"
   ]
  },
  {
   "cell_type": "code",
   "execution_count": 26,
   "id": "955968ad",
   "metadata": {},
   "outputs": [
    {
     "name": "stdout",
     "output_type": "stream",
     "text": [
      "La page web a été enregistrée avec succès.\n"
     ]
    }
   ],
   "source": [
    "import requests\n",
    "\n",
    "# URL de la page web à télécharger\n",
    "url = \"http://127.0.0.1:5000/#/experiments/421796574728863656?searchFilter=&orderByKey=attributes.start_time&orderByAsc=false&startTime=ALL&lifecycleFilter=Active&modelVersionFilter=All%20Runs&selectedColumns=metrics.%60score_auc%60,metrics.%60score_metier%60&isComparingRuns=false\"\n",
    "\n",
    "# Envoi de la requête GET\n",
    "response = requests.get(url)\n",
    "\n",
    "# Vérification du code de statut HTTP\n",
    "if response.status_code == 200:\n",
    "    # Enregistrement de la page web en tant que fichier HTML\n",
    "    with open(\"rapport_mlflow.html\", \"w\") as f:\n",
    "        f.write(response.text)\n",
    "        print(\"La page web a été enregistrée avec succès.\")\n",
    "else:\n",
    "    print(f\"La requête a échoué avec le code de statut HTTP {response.status_code}.\")\n"
   ]
  },
  {
   "cell_type": "markdown",
   "id": "95a0819d",
   "metadata": {},
   "source": [
    "## STREAMLIT AND FASTAPI"
   ]
  },
  {
   "cell_type": "code",
   "execution_count": 18,
   "id": "c420cca8",
   "metadata": {},
   "outputs": [],
   "source": [
    "# Features selection\n",
    "selector = ColumnTransformer(\n",
    "    transformers=[('select', 'passthrough', feature_names)],\n",
    "    remainder='drop'\n",
    ")"
   ]
  },
  {
   "cell_type": "code",
   "execution_count": 19,
   "id": "3c9402ca",
   "metadata": {},
   "outputs": [],
   "source": [
    "# Saving the selected model\n",
    "\n",
    "model_saved=LogisticRegression()"
   ]
  },
  {
   "cell_type": "code",
   "execution_count": 20,
   "id": "82bf104a",
   "metadata": {},
   "outputs": [],
   "source": [
    "pipeline = Pipeline(steps=[\n",
    "    ('feature_selection', selector), \n",
    "    ('preprocessing', preprocessor), \n",
    "    ('model', model_saved)\n",
    "])"
   ]
  },
  {
   "cell_type": "code",
   "execution_count": 52,
   "id": "4416f0c1",
   "metadata": {},
   "outputs": [
    {
     "ename": "KeyboardInterrupt",
     "evalue": "",
     "output_type": "error",
     "traceback": [
      "\u001b[1;31m---------------------------------------------------------------------------\u001b[0m",
      "\u001b[1;31mKeyboardInterrupt\u001b[0m                         Traceback (most recent call last)",
      "\u001b[1;32m<ipython-input-52-94f842d99aa6>\u001b[0m in \u001b[0;36m<module>\u001b[1;34m\u001b[0m\n\u001b[0;32m      1\u001b[0m \u001b[1;31m# Fit model\u001b[0m\u001b[1;33m\u001b[0m\u001b[1;33m\u001b[0m\u001b[1;33m\u001b[0m\u001b[0m\n\u001b[0;32m      2\u001b[0m \u001b[1;33m\u001b[0m\u001b[0m\n\u001b[1;32m----> 3\u001b[1;33m \u001b[0mpipeline\u001b[0m\u001b[1;33m.\u001b[0m\u001b[0mfit\u001b[0m\u001b[1;33m(\u001b[0m\u001b[0mX\u001b[0m\u001b[1;33m,\u001b[0m\u001b[0my\u001b[0m\u001b[1;33m)\u001b[0m\u001b[1;33m\u001b[0m\u001b[1;33m\u001b[0m\u001b[0m\n\u001b[0m",
      "\u001b[1;32mc:\\users\\td\\appdata\\local\\programs\\python\\python39\\lib\\site-packages\\sklearn\\pipeline.py\u001b[0m in \u001b[0;36mfit\u001b[1;34m(self, X, y, **fit_params)\u001b[0m\n\u001b[0;32m    376\u001b[0m         \"\"\"\n\u001b[0;32m    377\u001b[0m         \u001b[0mfit_params_steps\u001b[0m \u001b[1;33m=\u001b[0m \u001b[0mself\u001b[0m\u001b[1;33m.\u001b[0m\u001b[0m_check_fit_params\u001b[0m\u001b[1;33m(\u001b[0m\u001b[1;33m**\u001b[0m\u001b[0mfit_params\u001b[0m\u001b[1;33m)\u001b[0m\u001b[1;33m\u001b[0m\u001b[1;33m\u001b[0m\u001b[0m\n\u001b[1;32m--> 378\u001b[1;33m         \u001b[0mXt\u001b[0m \u001b[1;33m=\u001b[0m \u001b[0mself\u001b[0m\u001b[1;33m.\u001b[0m\u001b[0m_fit\u001b[0m\u001b[1;33m(\u001b[0m\u001b[0mX\u001b[0m\u001b[1;33m,\u001b[0m \u001b[0my\u001b[0m\u001b[1;33m,\u001b[0m \u001b[1;33m**\u001b[0m\u001b[0mfit_params_steps\u001b[0m\u001b[1;33m)\u001b[0m\u001b[1;33m\u001b[0m\u001b[1;33m\u001b[0m\u001b[0m\n\u001b[0m\u001b[0;32m    379\u001b[0m         \u001b[1;32mwith\u001b[0m \u001b[0m_print_elapsed_time\u001b[0m\u001b[1;33m(\u001b[0m\u001b[1;34m\"Pipeline\"\u001b[0m\u001b[1;33m,\u001b[0m \u001b[0mself\u001b[0m\u001b[1;33m.\u001b[0m\u001b[0m_log_message\u001b[0m\u001b[1;33m(\u001b[0m\u001b[0mlen\u001b[0m\u001b[1;33m(\u001b[0m\u001b[0mself\u001b[0m\u001b[1;33m.\u001b[0m\u001b[0msteps\u001b[0m\u001b[1;33m)\u001b[0m \u001b[1;33m-\u001b[0m \u001b[1;36m1\u001b[0m\u001b[1;33m)\u001b[0m\u001b[1;33m)\u001b[0m\u001b[1;33m:\u001b[0m\u001b[1;33m\u001b[0m\u001b[1;33m\u001b[0m\u001b[0m\n\u001b[0;32m    380\u001b[0m             \u001b[1;32mif\u001b[0m \u001b[0mself\u001b[0m\u001b[1;33m.\u001b[0m\u001b[0m_final_estimator\u001b[0m \u001b[1;33m!=\u001b[0m \u001b[1;34m\"passthrough\"\u001b[0m\u001b[1;33m:\u001b[0m\u001b[1;33m\u001b[0m\u001b[1;33m\u001b[0m\u001b[0m\n",
      "\u001b[1;32mc:\\users\\td\\appdata\\local\\programs\\python\\python39\\lib\\site-packages\\sklearn\\pipeline.py\u001b[0m in \u001b[0;36m_fit\u001b[1;34m(self, X, y, **fit_params_steps)\u001b[0m\n\u001b[0;32m    334\u001b[0m                 \u001b[0mcloned_transformer\u001b[0m \u001b[1;33m=\u001b[0m \u001b[0mclone\u001b[0m\u001b[1;33m(\u001b[0m\u001b[0mtransformer\u001b[0m\u001b[1;33m)\u001b[0m\u001b[1;33m\u001b[0m\u001b[1;33m\u001b[0m\u001b[0m\n\u001b[0;32m    335\u001b[0m             \u001b[1;31m# Fit or load from cache the current transformer\u001b[0m\u001b[1;33m\u001b[0m\u001b[1;33m\u001b[0m\u001b[1;33m\u001b[0m\u001b[0m\n\u001b[1;32m--> 336\u001b[1;33m             X, fitted_transformer = fit_transform_one_cached(\n\u001b[0m\u001b[0;32m    337\u001b[0m                 \u001b[0mcloned_transformer\u001b[0m\u001b[1;33m,\u001b[0m\u001b[1;33m\u001b[0m\u001b[1;33m\u001b[0m\u001b[0m\n\u001b[0;32m    338\u001b[0m                 \u001b[0mX\u001b[0m\u001b[1;33m,\u001b[0m\u001b[1;33m\u001b[0m\u001b[1;33m\u001b[0m\u001b[0m\n",
      "\u001b[1;32mc:\\users\\td\\appdata\\local\\programs\\python\\python39\\lib\\site-packages\\joblib\\memory.py\u001b[0m in \u001b[0;36m__call__\u001b[1;34m(self, *args, **kwargs)\u001b[0m\n\u001b[0;32m    347\u001b[0m \u001b[1;33m\u001b[0m\u001b[0m\n\u001b[0;32m    348\u001b[0m     \u001b[1;32mdef\u001b[0m \u001b[0m__call__\u001b[0m\u001b[1;33m(\u001b[0m\u001b[0mself\u001b[0m\u001b[1;33m,\u001b[0m \u001b[1;33m*\u001b[0m\u001b[0margs\u001b[0m\u001b[1;33m,\u001b[0m \u001b[1;33m**\u001b[0m\u001b[0mkwargs\u001b[0m\u001b[1;33m)\u001b[0m\u001b[1;33m:\u001b[0m\u001b[1;33m\u001b[0m\u001b[1;33m\u001b[0m\u001b[0m\n\u001b[1;32m--> 349\u001b[1;33m         \u001b[1;32mreturn\u001b[0m \u001b[0mself\u001b[0m\u001b[1;33m.\u001b[0m\u001b[0mfunc\u001b[0m\u001b[1;33m(\u001b[0m\u001b[1;33m*\u001b[0m\u001b[0margs\u001b[0m\u001b[1;33m,\u001b[0m \u001b[1;33m**\u001b[0m\u001b[0mkwargs\u001b[0m\u001b[1;33m)\u001b[0m\u001b[1;33m\u001b[0m\u001b[1;33m\u001b[0m\u001b[0m\n\u001b[0m\u001b[0;32m    350\u001b[0m \u001b[1;33m\u001b[0m\u001b[0m\n\u001b[0;32m    351\u001b[0m     \u001b[1;32mdef\u001b[0m \u001b[0mcall_and_shelve\u001b[0m\u001b[1;33m(\u001b[0m\u001b[0mself\u001b[0m\u001b[1;33m,\u001b[0m \u001b[1;33m*\u001b[0m\u001b[0margs\u001b[0m\u001b[1;33m,\u001b[0m \u001b[1;33m**\u001b[0m\u001b[0mkwargs\u001b[0m\u001b[1;33m)\u001b[0m\u001b[1;33m:\u001b[0m\u001b[1;33m\u001b[0m\u001b[1;33m\u001b[0m\u001b[0m\n",
      "\u001b[1;32mc:\\users\\td\\appdata\\local\\programs\\python\\python39\\lib\\site-packages\\sklearn\\pipeline.py\u001b[0m in \u001b[0;36m_fit_transform_one\u001b[1;34m(transformer, X, y, weight, message_clsname, message, **fit_params)\u001b[0m\n\u001b[0;32m    868\u001b[0m     \u001b[1;32mwith\u001b[0m \u001b[0m_print_elapsed_time\u001b[0m\u001b[1;33m(\u001b[0m\u001b[0mmessage_clsname\u001b[0m\u001b[1;33m,\u001b[0m \u001b[0mmessage\u001b[0m\u001b[1;33m)\u001b[0m\u001b[1;33m:\u001b[0m\u001b[1;33m\u001b[0m\u001b[1;33m\u001b[0m\u001b[0m\n\u001b[0;32m    869\u001b[0m         \u001b[1;32mif\u001b[0m \u001b[0mhasattr\u001b[0m\u001b[1;33m(\u001b[0m\u001b[0mtransformer\u001b[0m\u001b[1;33m,\u001b[0m \u001b[1;34m\"fit_transform\"\u001b[0m\u001b[1;33m)\u001b[0m\u001b[1;33m:\u001b[0m\u001b[1;33m\u001b[0m\u001b[1;33m\u001b[0m\u001b[0m\n\u001b[1;32m--> 870\u001b[1;33m             \u001b[0mres\u001b[0m \u001b[1;33m=\u001b[0m \u001b[0mtransformer\u001b[0m\u001b[1;33m.\u001b[0m\u001b[0mfit_transform\u001b[0m\u001b[1;33m(\u001b[0m\u001b[0mX\u001b[0m\u001b[1;33m,\u001b[0m \u001b[0my\u001b[0m\u001b[1;33m,\u001b[0m \u001b[1;33m**\u001b[0m\u001b[0mfit_params\u001b[0m\u001b[1;33m)\u001b[0m\u001b[1;33m\u001b[0m\u001b[1;33m\u001b[0m\u001b[0m\n\u001b[0m\u001b[0;32m    871\u001b[0m         \u001b[1;32melse\u001b[0m\u001b[1;33m:\u001b[0m\u001b[1;33m\u001b[0m\u001b[1;33m\u001b[0m\u001b[0m\n\u001b[0;32m    872\u001b[0m             \u001b[0mres\u001b[0m \u001b[1;33m=\u001b[0m \u001b[0mtransformer\u001b[0m\u001b[1;33m.\u001b[0m\u001b[0mfit\u001b[0m\u001b[1;33m(\u001b[0m\u001b[0mX\u001b[0m\u001b[1;33m,\u001b[0m \u001b[0my\u001b[0m\u001b[1;33m,\u001b[0m \u001b[1;33m**\u001b[0m\u001b[0mfit_params\u001b[0m\u001b[1;33m)\u001b[0m\u001b[1;33m.\u001b[0m\u001b[0mtransform\u001b[0m\u001b[1;33m(\u001b[0m\u001b[0mX\u001b[0m\u001b[1;33m)\u001b[0m\u001b[1;33m\u001b[0m\u001b[1;33m\u001b[0m\u001b[0m\n",
      "\u001b[1;32mc:\\users\\td\\appdata\\local\\programs\\python\\python39\\lib\\site-packages\\sklearn\\preprocessing\\_data.py\u001b[0m in \u001b[0;36mfit_transform\u001b[1;34m(self, X, y)\u001b[0m\n\u001b[0;32m   3056\u001b[0m             \u001b[0mTransformed\u001b[0m \u001b[0mdata\u001b[0m\u001b[1;33m.\u001b[0m\u001b[1;33m\u001b[0m\u001b[1;33m\u001b[0m\u001b[0m\n\u001b[0;32m   3057\u001b[0m         \"\"\"\n\u001b[1;32m-> 3058\u001b[1;33m         \u001b[1;32mreturn\u001b[0m \u001b[0mself\u001b[0m\u001b[1;33m.\u001b[0m\u001b[0m_fit\u001b[0m\u001b[1;33m(\u001b[0m\u001b[0mX\u001b[0m\u001b[1;33m,\u001b[0m \u001b[0my\u001b[0m\u001b[1;33m,\u001b[0m \u001b[0mforce_transform\u001b[0m\u001b[1;33m=\u001b[0m\u001b[1;32mTrue\u001b[0m\u001b[1;33m)\u001b[0m\u001b[1;33m\u001b[0m\u001b[1;33m\u001b[0m\u001b[0m\n\u001b[0m\u001b[0;32m   3059\u001b[0m \u001b[1;33m\u001b[0m\u001b[0m\n\u001b[0;32m   3060\u001b[0m     \u001b[1;32mdef\u001b[0m \u001b[0m_fit\u001b[0m\u001b[1;33m(\u001b[0m\u001b[0mself\u001b[0m\u001b[1;33m,\u001b[0m \u001b[0mX\u001b[0m\u001b[1;33m,\u001b[0m \u001b[0my\u001b[0m\u001b[1;33m=\u001b[0m\u001b[1;32mNone\u001b[0m\u001b[1;33m,\u001b[0m \u001b[0mforce_transform\u001b[0m\u001b[1;33m=\u001b[0m\u001b[1;32mFalse\u001b[0m\u001b[1;33m)\u001b[0m\u001b[1;33m:\u001b[0m\u001b[1;33m\u001b[0m\u001b[1;33m\u001b[0m\u001b[0m\n",
      "\u001b[1;32mc:\\users\\td\\appdata\\local\\programs\\python\\python39\\lib\\site-packages\\sklearn\\preprocessing\\_data.py\u001b[0m in \u001b[0;36m_fit\u001b[1;34m(self, X, y, force_transform)\u001b[0m\n\u001b[0;32m   3069\u001b[0m         }[self.method]\n\u001b[0;32m   3070\u001b[0m         \u001b[1;32mwith\u001b[0m \u001b[0mnp\u001b[0m\u001b[1;33m.\u001b[0m\u001b[0merrstate\u001b[0m\u001b[1;33m(\u001b[0m\u001b[0minvalid\u001b[0m\u001b[1;33m=\u001b[0m\u001b[1;34m\"ignore\"\u001b[0m\u001b[1;33m)\u001b[0m\u001b[1;33m:\u001b[0m  \u001b[1;31m# hide NaN warnings\u001b[0m\u001b[1;33m\u001b[0m\u001b[1;33m\u001b[0m\u001b[0m\n\u001b[1;32m-> 3071\u001b[1;33m             \u001b[0mself\u001b[0m\u001b[1;33m.\u001b[0m\u001b[0mlambdas_\u001b[0m \u001b[1;33m=\u001b[0m \u001b[0mnp\u001b[0m\u001b[1;33m.\u001b[0m\u001b[0marray\u001b[0m\u001b[1;33m(\u001b[0m\u001b[1;33m[\u001b[0m\u001b[0moptim_function\u001b[0m\u001b[1;33m(\u001b[0m\u001b[0mcol\u001b[0m\u001b[1;33m)\u001b[0m \u001b[1;32mfor\u001b[0m \u001b[0mcol\u001b[0m \u001b[1;32min\u001b[0m \u001b[0mX\u001b[0m\u001b[1;33m.\u001b[0m\u001b[0mT\u001b[0m\u001b[1;33m]\u001b[0m\u001b[1;33m)\u001b[0m\u001b[1;33m\u001b[0m\u001b[1;33m\u001b[0m\u001b[0m\n\u001b[0m\u001b[0;32m   3072\u001b[0m \u001b[1;33m\u001b[0m\u001b[0m\n\u001b[0;32m   3073\u001b[0m         \u001b[1;32mif\u001b[0m \u001b[0mself\u001b[0m\u001b[1;33m.\u001b[0m\u001b[0mstandardize\u001b[0m \u001b[1;32mor\u001b[0m \u001b[0mforce_transform\u001b[0m\u001b[1;33m:\u001b[0m\u001b[1;33m\u001b[0m\u001b[1;33m\u001b[0m\u001b[0m\n",
      "\u001b[1;32mc:\\users\\td\\appdata\\local\\programs\\python\\python39\\lib\\site-packages\\sklearn\\preprocessing\\_data.py\u001b[0m in \u001b[0;36m<listcomp>\u001b[1;34m(.0)\u001b[0m\n\u001b[0;32m   3069\u001b[0m         }[self.method]\n\u001b[0;32m   3070\u001b[0m         \u001b[1;32mwith\u001b[0m \u001b[0mnp\u001b[0m\u001b[1;33m.\u001b[0m\u001b[0merrstate\u001b[0m\u001b[1;33m(\u001b[0m\u001b[0minvalid\u001b[0m\u001b[1;33m=\u001b[0m\u001b[1;34m\"ignore\"\u001b[0m\u001b[1;33m)\u001b[0m\u001b[1;33m:\u001b[0m  \u001b[1;31m# hide NaN warnings\u001b[0m\u001b[1;33m\u001b[0m\u001b[1;33m\u001b[0m\u001b[0m\n\u001b[1;32m-> 3071\u001b[1;33m             \u001b[0mself\u001b[0m\u001b[1;33m.\u001b[0m\u001b[0mlambdas_\u001b[0m \u001b[1;33m=\u001b[0m \u001b[0mnp\u001b[0m\u001b[1;33m.\u001b[0m\u001b[0marray\u001b[0m\u001b[1;33m(\u001b[0m\u001b[1;33m[\u001b[0m\u001b[0moptim_function\u001b[0m\u001b[1;33m(\u001b[0m\u001b[0mcol\u001b[0m\u001b[1;33m)\u001b[0m \u001b[1;32mfor\u001b[0m \u001b[0mcol\u001b[0m \u001b[1;32min\u001b[0m \u001b[0mX\u001b[0m\u001b[1;33m.\u001b[0m\u001b[0mT\u001b[0m\u001b[1;33m]\u001b[0m\u001b[1;33m)\u001b[0m\u001b[1;33m\u001b[0m\u001b[1;33m\u001b[0m\u001b[0m\n\u001b[0m\u001b[0;32m   3072\u001b[0m \u001b[1;33m\u001b[0m\u001b[0m\n\u001b[0;32m   3073\u001b[0m         \u001b[1;32mif\u001b[0m \u001b[0mself\u001b[0m\u001b[1;33m.\u001b[0m\u001b[0mstandardize\u001b[0m \u001b[1;32mor\u001b[0m \u001b[0mforce_transform\u001b[0m\u001b[1;33m:\u001b[0m\u001b[1;33m\u001b[0m\u001b[1;33m\u001b[0m\u001b[0m\n",
      "\u001b[1;32mc:\\users\\td\\appdata\\local\\programs\\python\\python39\\lib\\site-packages\\sklearn\\preprocessing\\_data.py\u001b[0m in \u001b[0;36m_yeo_johnson_optimize\u001b[1;34m(self, x)\u001b[0m\n\u001b[0;32m   3260\u001b[0m         \u001b[0mx\u001b[0m \u001b[1;33m=\u001b[0m \u001b[0mx\u001b[0m\u001b[1;33m[\u001b[0m\u001b[1;33m~\u001b[0m\u001b[0mnp\u001b[0m\u001b[1;33m.\u001b[0m\u001b[0misnan\u001b[0m\u001b[1;33m(\u001b[0m\u001b[0mx\u001b[0m\u001b[1;33m)\u001b[0m\u001b[1;33m]\u001b[0m\u001b[1;33m\u001b[0m\u001b[1;33m\u001b[0m\u001b[0m\n\u001b[0;32m   3261\u001b[0m         \u001b[1;31m# choosing bracket -2, 2 like for boxcox\u001b[0m\u001b[1;33m\u001b[0m\u001b[1;33m\u001b[0m\u001b[1;33m\u001b[0m\u001b[0m\n\u001b[1;32m-> 3262\u001b[1;33m         \u001b[1;32mreturn\u001b[0m \u001b[0moptimize\u001b[0m\u001b[1;33m.\u001b[0m\u001b[0mbrent\u001b[0m\u001b[1;33m(\u001b[0m\u001b[0m_neg_log_likelihood\u001b[0m\u001b[1;33m,\u001b[0m \u001b[0mbrack\u001b[0m\u001b[1;33m=\u001b[0m\u001b[1;33m(\u001b[0m\u001b[1;33m-\u001b[0m\u001b[1;36m2\u001b[0m\u001b[1;33m,\u001b[0m \u001b[1;36m2\u001b[0m\u001b[1;33m)\u001b[0m\u001b[1;33m)\u001b[0m\u001b[1;33m\u001b[0m\u001b[1;33m\u001b[0m\u001b[0m\n\u001b[0m\u001b[0;32m   3263\u001b[0m \u001b[1;33m\u001b[0m\u001b[0m\n\u001b[0;32m   3264\u001b[0m     def _check_input(\n",
      "\u001b[1;32mc:\\users\\td\\appdata\\local\\programs\\python\\python39\\lib\\site-packages\\scipy\\optimize\\optimize.py\u001b[0m in \u001b[0;36mbrent\u001b[1;34m(func, args, brack, tol, full_output, maxiter)\u001b[0m\n\u001b[0;32m   2362\u001b[0m     options = {'xtol': tol,\n\u001b[0;32m   2363\u001b[0m                'maxiter': maxiter}\n\u001b[1;32m-> 2364\u001b[1;33m     \u001b[0mres\u001b[0m \u001b[1;33m=\u001b[0m \u001b[0m_minimize_scalar_brent\u001b[0m\u001b[1;33m(\u001b[0m\u001b[0mfunc\u001b[0m\u001b[1;33m,\u001b[0m \u001b[0mbrack\u001b[0m\u001b[1;33m,\u001b[0m \u001b[0margs\u001b[0m\u001b[1;33m,\u001b[0m \u001b[1;33m**\u001b[0m\u001b[0moptions\u001b[0m\u001b[1;33m)\u001b[0m\u001b[1;33m\u001b[0m\u001b[1;33m\u001b[0m\u001b[0m\n\u001b[0m\u001b[0;32m   2365\u001b[0m     \u001b[1;32mif\u001b[0m \u001b[0mfull_output\u001b[0m\u001b[1;33m:\u001b[0m\u001b[1;33m\u001b[0m\u001b[1;33m\u001b[0m\u001b[0m\n\u001b[0;32m   2366\u001b[0m         \u001b[1;32mreturn\u001b[0m \u001b[0mres\u001b[0m\u001b[1;33m[\u001b[0m\u001b[1;34m'x'\u001b[0m\u001b[1;33m]\u001b[0m\u001b[1;33m,\u001b[0m \u001b[0mres\u001b[0m\u001b[1;33m[\u001b[0m\u001b[1;34m'fun'\u001b[0m\u001b[1;33m]\u001b[0m\u001b[1;33m,\u001b[0m \u001b[0mres\u001b[0m\u001b[1;33m[\u001b[0m\u001b[1;34m'nit'\u001b[0m\u001b[1;33m]\u001b[0m\u001b[1;33m,\u001b[0m \u001b[0mres\u001b[0m\u001b[1;33m[\u001b[0m\u001b[1;34m'nfev'\u001b[0m\u001b[1;33m]\u001b[0m\u001b[1;33m\u001b[0m\u001b[1;33m\u001b[0m\u001b[0m\n",
      "\u001b[1;32mc:\\users\\td\\appdata\\local\\programs\\python\\python39\\lib\\site-packages\\scipy\\optimize\\optimize.py\u001b[0m in \u001b[0;36m_minimize_scalar_brent\u001b[1;34m(func, brack, args, xtol, maxiter, **unknown_options)\u001b[0m\n\u001b[0;32m   2394\u001b[0m                   full_output=True, maxiter=maxiter)\n\u001b[0;32m   2395\u001b[0m     \u001b[0mbrent\u001b[0m\u001b[1;33m.\u001b[0m\u001b[0mset_bracket\u001b[0m\u001b[1;33m(\u001b[0m\u001b[0mbrack\u001b[0m\u001b[1;33m)\u001b[0m\u001b[1;33m\u001b[0m\u001b[1;33m\u001b[0m\u001b[0m\n\u001b[1;32m-> 2396\u001b[1;33m     \u001b[0mbrent\u001b[0m\u001b[1;33m.\u001b[0m\u001b[0moptimize\u001b[0m\u001b[1;33m(\u001b[0m\u001b[1;33m)\u001b[0m\u001b[1;33m\u001b[0m\u001b[1;33m\u001b[0m\u001b[0m\n\u001b[0m\u001b[0;32m   2397\u001b[0m     \u001b[0mx\u001b[0m\u001b[1;33m,\u001b[0m \u001b[0mfval\u001b[0m\u001b[1;33m,\u001b[0m \u001b[0mnit\u001b[0m\u001b[1;33m,\u001b[0m \u001b[0mnfev\u001b[0m \u001b[1;33m=\u001b[0m \u001b[0mbrent\u001b[0m\u001b[1;33m.\u001b[0m\u001b[0mget_result\u001b[0m\u001b[1;33m(\u001b[0m\u001b[0mfull_output\u001b[0m\u001b[1;33m=\u001b[0m\u001b[1;32mTrue\u001b[0m\u001b[1;33m)\u001b[0m\u001b[1;33m\u001b[0m\u001b[1;33m\u001b[0m\u001b[0m\n\u001b[0;32m   2398\u001b[0m \u001b[1;33m\u001b[0m\u001b[0m\n",
      "\u001b[1;32mc:\\users\\td\\appdata\\local\\programs\\python\\python39\\lib\\site-packages\\scipy\\optimize\\optimize.py\u001b[0m in \u001b[0;36moptimize\u001b[1;34m(self)\u001b[0m\n\u001b[0;32m   2245\u001b[0m             \u001b[1;32melse\u001b[0m\u001b[1;33m:\u001b[0m\u001b[1;33m\u001b[0m\u001b[1;33m\u001b[0m\u001b[0m\n\u001b[0;32m   2246\u001b[0m                 \u001b[0mu\u001b[0m \u001b[1;33m=\u001b[0m \u001b[0mx\u001b[0m \u001b[1;33m+\u001b[0m \u001b[0mrat\u001b[0m\u001b[1;33m\u001b[0m\u001b[1;33m\u001b[0m\u001b[0m\n\u001b[1;32m-> 2247\u001b[1;33m             \u001b[0mfu\u001b[0m \u001b[1;33m=\u001b[0m \u001b[0mfunc\u001b[0m\u001b[1;33m(\u001b[0m\u001b[1;33m*\u001b[0m\u001b[1;33m(\u001b[0m\u001b[1;33m(\u001b[0m\u001b[0mu\u001b[0m\u001b[1;33m,\u001b[0m\u001b[1;33m)\u001b[0m \u001b[1;33m+\u001b[0m \u001b[0mself\u001b[0m\u001b[1;33m.\u001b[0m\u001b[0margs\u001b[0m\u001b[1;33m)\u001b[0m\u001b[1;33m)\u001b[0m      \u001b[1;31m# calculate new output value\u001b[0m\u001b[1;33m\u001b[0m\u001b[1;33m\u001b[0m\u001b[0m\n\u001b[0m\u001b[0;32m   2248\u001b[0m             \u001b[0mfuncalls\u001b[0m \u001b[1;33m+=\u001b[0m \u001b[1;36m1\u001b[0m\u001b[1;33m\u001b[0m\u001b[1;33m\u001b[0m\u001b[0m\n\u001b[0;32m   2249\u001b[0m \u001b[1;33m\u001b[0m\u001b[0m\n",
      "\u001b[1;32mc:\\users\\td\\appdata\\local\\programs\\python\\python39\\lib\\site-packages\\sklearn\\preprocessing\\_data.py\u001b[0m in \u001b[0;36m_neg_log_likelihood\u001b[1;34m(lmbda)\u001b[0m\n\u001b[0;32m   3242\u001b[0m             \"\"\"Return the negative log likelihood of the observed data x as a\n\u001b[0;32m   3243\u001b[0m             function of lambda.\"\"\"\n\u001b[1;32m-> 3244\u001b[1;33m             \u001b[0mx_trans\u001b[0m \u001b[1;33m=\u001b[0m \u001b[0mself\u001b[0m\u001b[1;33m.\u001b[0m\u001b[0m_yeo_johnson_transform\u001b[0m\u001b[1;33m(\u001b[0m\u001b[0mx\u001b[0m\u001b[1;33m,\u001b[0m \u001b[0mlmbda\u001b[0m\u001b[1;33m)\u001b[0m\u001b[1;33m\u001b[0m\u001b[1;33m\u001b[0m\u001b[0m\n\u001b[0m\u001b[0;32m   3245\u001b[0m             \u001b[0mn_samples\u001b[0m \u001b[1;33m=\u001b[0m \u001b[0mx\u001b[0m\u001b[1;33m.\u001b[0m\u001b[0mshape\u001b[0m\u001b[1;33m[\u001b[0m\u001b[1;36m0\u001b[0m\u001b[1;33m]\u001b[0m\u001b[1;33m\u001b[0m\u001b[1;33m\u001b[0m\u001b[0m\n\u001b[0;32m   3246\u001b[0m             \u001b[0mx_trans_var\u001b[0m \u001b[1;33m=\u001b[0m \u001b[0mx_trans\u001b[0m\u001b[1;33m.\u001b[0m\u001b[0mvar\u001b[0m\u001b[1;33m(\u001b[0m\u001b[1;33m)\u001b[0m\u001b[1;33m\u001b[0m\u001b[1;33m\u001b[0m\u001b[0m\n",
      "\u001b[1;32mc:\\users\\td\\appdata\\local\\programs\\python\\python39\\lib\\site-packages\\sklearn\\preprocessing\\_data.py\u001b[0m in \u001b[0;36m_yeo_johnson_transform\u001b[1;34m(self, x, lmbda)\u001b[0m\n\u001b[0;32m   3209\u001b[0m             \u001b[0mout\u001b[0m\u001b[1;33m[\u001b[0m\u001b[0mpos\u001b[0m\u001b[1;33m]\u001b[0m \u001b[1;33m=\u001b[0m \u001b[0mnp\u001b[0m\u001b[1;33m.\u001b[0m\u001b[0mlog1p\u001b[0m\u001b[1;33m(\u001b[0m\u001b[0mx\u001b[0m\u001b[1;33m[\u001b[0m\u001b[0mpos\u001b[0m\u001b[1;33m]\u001b[0m\u001b[1;33m)\u001b[0m\u001b[1;33m\u001b[0m\u001b[1;33m\u001b[0m\u001b[0m\n\u001b[0;32m   3210\u001b[0m         \u001b[1;32melse\u001b[0m\u001b[1;33m:\u001b[0m  \u001b[1;31m# lmbda != 0\u001b[0m\u001b[1;33m\u001b[0m\u001b[1;33m\u001b[0m\u001b[0m\n\u001b[1;32m-> 3211\u001b[1;33m             \u001b[0mout\u001b[0m\u001b[1;33m[\u001b[0m\u001b[0mpos\u001b[0m\u001b[1;33m]\u001b[0m \u001b[1;33m=\u001b[0m \u001b[1;33m(\u001b[0m\u001b[0mnp\u001b[0m\u001b[1;33m.\u001b[0m\u001b[0mpower\u001b[0m\u001b[1;33m(\u001b[0m\u001b[0mx\u001b[0m\u001b[1;33m[\u001b[0m\u001b[0mpos\u001b[0m\u001b[1;33m]\u001b[0m \u001b[1;33m+\u001b[0m \u001b[1;36m1\u001b[0m\u001b[1;33m,\u001b[0m \u001b[0mlmbda\u001b[0m\u001b[1;33m)\u001b[0m \u001b[1;33m-\u001b[0m \u001b[1;36m1\u001b[0m\u001b[1;33m)\u001b[0m \u001b[1;33m/\u001b[0m \u001b[0mlmbda\u001b[0m\u001b[1;33m\u001b[0m\u001b[1;33m\u001b[0m\u001b[0m\n\u001b[0m\u001b[0;32m   3212\u001b[0m \u001b[1;33m\u001b[0m\u001b[0m\n\u001b[0;32m   3213\u001b[0m         \u001b[1;31m# when x < 0\u001b[0m\u001b[1;33m\u001b[0m\u001b[1;33m\u001b[0m\u001b[1;33m\u001b[0m\u001b[0m\n",
      "\u001b[1;31mKeyboardInterrupt\u001b[0m: "
     ]
    }
   ],
   "source": [
    "# Fit model\n",
    "\n",
    "pipeline.fit(X,y)"
   ]
  },
  {
   "cell_type": "code",
   "execution_count": 51,
   "id": "d378854a",
   "metadata": {},
   "outputs": [
    {
     "data": {
      "text/plain": [
       "['C:/Users/td/implement_scoring_loan/api/scoring_loan.joblib']"
      ]
     },
     "execution_count": 51,
     "metadata": {},
     "output_type": "execute_result"
    }
   ],
   "source": [
    "# Saving model for fastapi\n",
    "\n",
    "joblib.dump(pipeline, 'C:/Users/td/implement_scoring_loan/api/scoring_loan.joblib')"
   ]
  },
  {
   "cell_type": "markdown",
   "id": "e755c2ae",
   "metadata": {},
   "source": [
    "## LIME : FEATURE LOCAL"
   ]
  },
  {
   "cell_type": "code",
   "execution_count": 39,
   "id": "1b867c57",
   "metadata": {},
   "outputs": [],
   "source": [
    "# with open('C:/Users/td/implement_scoring_loan/api/selected_feature_names.pkl', 'wb') as f:\n",
    "#     pickle.dump(selected_feature_names, f)"
   ]
  },
  {
   "cell_type": "code",
   "execution_count": 28,
   "id": "39b6284a",
   "metadata": {},
   "outputs": [],
   "source": [
    "##TODO REMETTRE training_data=X_train_resampled[selected_feature_names].values\n",
    "\n",
    "explainer = lime.lime_tabular.LimeTabularExplainer(training_data=X[selected_feature_names].values,\n",
    "                                                   feature_names=selected_feature_names,\n",
    "                                                   class_names=['0','1'],\n",
    "                                                   discretize_continuous=True)"
   ]
  },
  {
   "cell_type": "code",
   "execution_count": 34,
   "id": "7408d912",
   "metadata": {},
   "outputs": [],
   "source": [
    "# Lime : local feature experience\n",
    "\n",
    "# Saving model for fastapi\n",
    "\n",
    "import dill\n",
    "\n",
    "with open('C:/Users/td/implement_scoring_loan/api/explainer.pkl', 'wb') as f:\n",
    "    dill.dump(explainer, f)"
   ]
  },
  {
   "cell_type": "code",
   "execution_count": 29,
   "id": "4ee1967f",
   "metadata": {},
   "outputs": [],
   "source": [
    "id_client = 100002\n",
    "index_client = df[df['SK_ID_CURR'] == id_client].index[0]\n",
    "features = df[selected_feature_names].iloc[index_client].to_dict()"
   ]
  },
  {
   "cell_type": "code",
   "execution_count": 32,
   "id": "d7b243bc",
   "metadata": {},
   "outputs": [],
   "source": [
    "instance = np.array(list(features.values()))\n",
    "instance = instance"
   ]
  },
  {
   "cell_type": "code",
   "execution_count": 33,
   "id": "8c00121f",
   "metadata": {},
   "outputs": [],
   "source": [
    "exp = explainer.explain_instance(instance,pipeline\n",
    "                                 .set_params(feature_selection=None)\n",
    "                                 .predict_proba, num_features=16)"
   ]
  },
  {
   "cell_type": "code",
   "execution_count": 48,
   "id": "190d7c52",
   "metadata": {},
   "outputs": [
    {
     "data": {
      "text/plain": [
       "0.74062663097601"
      ]
     },
     "execution_count": 48,
     "metadata": {},
     "output_type": "execute_result"
    }
   ],
   "source": [
    "# Score d adequation 1 et -1\n",
    "exp.score"
   ]
  },
  {
   "cell_type": "code",
   "execution_count": 51,
   "id": "7382f9dd",
   "metadata": {},
   "outputs": [
    {
     "ename": "ValueError",
     "evalue": "X has 796 features, but PowerTransformer is expecting 16 features as input.",
     "output_type": "error",
     "traceback": [
      "\u001b[1;31m---------------------------------------------------------------------------\u001b[0m",
      "\u001b[1;31mValueError\u001b[0m                                Traceback (most recent call last)",
      "\u001b[1;32m<ipython-input-51-e7480d0e7286>\u001b[0m in \u001b[0;36m<module>\u001b[1;34m\u001b[0m\n\u001b[1;32m----> 1\u001b[1;33m \u001b[0mpipeline\u001b[0m\u001b[1;33m.\u001b[0m\u001b[0mpredict\u001b[0m\u001b[1;33m(\u001b[0m\u001b[0mX\u001b[0m\u001b[1;33m[\u001b[0m\u001b[0mX\u001b[0m\u001b[1;33m[\u001b[0m\u001b[1;34m'SK_ID_CURR'\u001b[0m\u001b[1;33m]\u001b[0m\u001b[1;33m==\u001b[0m\u001b[1;36m100002\u001b[0m\u001b[1;33m]\u001b[0m\u001b[1;33m)\u001b[0m\u001b[1;33m\u001b[0m\u001b[1;33m\u001b[0m\u001b[0m\n\u001b[0m",
      "\u001b[1;32mc:\\users\\td\\appdata\\local\\programs\\python\\python39\\lib\\site-packages\\sklearn\\pipeline.py\u001b[0m in \u001b[0;36mpredict\u001b[1;34m(self, X, **predict_params)\u001b[0m\n\u001b[0;32m    455\u001b[0m         \u001b[0mXt\u001b[0m \u001b[1;33m=\u001b[0m \u001b[0mX\u001b[0m\u001b[1;33m\u001b[0m\u001b[1;33m\u001b[0m\u001b[0m\n\u001b[0;32m    456\u001b[0m         \u001b[1;32mfor\u001b[0m \u001b[0m_\u001b[0m\u001b[1;33m,\u001b[0m \u001b[0mname\u001b[0m\u001b[1;33m,\u001b[0m \u001b[0mtransform\u001b[0m \u001b[1;32min\u001b[0m \u001b[0mself\u001b[0m\u001b[1;33m.\u001b[0m\u001b[0m_iter\u001b[0m\u001b[1;33m(\u001b[0m\u001b[0mwith_final\u001b[0m\u001b[1;33m=\u001b[0m\u001b[1;32mFalse\u001b[0m\u001b[1;33m)\u001b[0m\u001b[1;33m:\u001b[0m\u001b[1;33m\u001b[0m\u001b[1;33m\u001b[0m\u001b[0m\n\u001b[1;32m--> 457\u001b[1;33m             \u001b[0mXt\u001b[0m \u001b[1;33m=\u001b[0m \u001b[0mtransform\u001b[0m\u001b[1;33m.\u001b[0m\u001b[0mtransform\u001b[0m\u001b[1;33m(\u001b[0m\u001b[0mXt\u001b[0m\u001b[1;33m)\u001b[0m\u001b[1;33m\u001b[0m\u001b[1;33m\u001b[0m\u001b[0m\n\u001b[0m\u001b[0;32m    458\u001b[0m         \u001b[1;32mreturn\u001b[0m \u001b[0mself\u001b[0m\u001b[1;33m.\u001b[0m\u001b[0msteps\u001b[0m\u001b[1;33m[\u001b[0m\u001b[1;33m-\u001b[0m\u001b[1;36m1\u001b[0m\u001b[1;33m]\u001b[0m\u001b[1;33m[\u001b[0m\u001b[1;36m1\u001b[0m\u001b[1;33m]\u001b[0m\u001b[1;33m.\u001b[0m\u001b[0mpredict\u001b[0m\u001b[1;33m(\u001b[0m\u001b[0mXt\u001b[0m\u001b[1;33m,\u001b[0m \u001b[1;33m**\u001b[0m\u001b[0mpredict_params\u001b[0m\u001b[1;33m)\u001b[0m\u001b[1;33m\u001b[0m\u001b[1;33m\u001b[0m\u001b[0m\n\u001b[0;32m    459\u001b[0m \u001b[1;33m\u001b[0m\u001b[0m\n",
      "\u001b[1;32mc:\\users\\td\\appdata\\local\\programs\\python\\python39\\lib\\site-packages\\sklearn\\preprocessing\\_data.py\u001b[0m in \u001b[0;36mtransform\u001b[1;34m(self, X)\u001b[0m\n\u001b[0;32m   3103\u001b[0m         \"\"\"\n\u001b[0;32m   3104\u001b[0m         \u001b[0mcheck_is_fitted\u001b[0m\u001b[1;33m(\u001b[0m\u001b[0mself\u001b[0m\u001b[1;33m)\u001b[0m\u001b[1;33m\u001b[0m\u001b[1;33m\u001b[0m\u001b[0m\n\u001b[1;32m-> 3105\u001b[1;33m         \u001b[0mX\u001b[0m \u001b[1;33m=\u001b[0m \u001b[0mself\u001b[0m\u001b[1;33m.\u001b[0m\u001b[0m_check_input\u001b[0m\u001b[1;33m(\u001b[0m\u001b[0mX\u001b[0m\u001b[1;33m,\u001b[0m \u001b[0min_fit\u001b[0m\u001b[1;33m=\u001b[0m\u001b[1;32mFalse\u001b[0m\u001b[1;33m,\u001b[0m \u001b[0mcheck_positive\u001b[0m\u001b[1;33m=\u001b[0m\u001b[1;32mTrue\u001b[0m\u001b[1;33m,\u001b[0m \u001b[0mcheck_shape\u001b[0m\u001b[1;33m=\u001b[0m\u001b[1;32mTrue\u001b[0m\u001b[1;33m)\u001b[0m\u001b[1;33m\u001b[0m\u001b[1;33m\u001b[0m\u001b[0m\n\u001b[0m\u001b[0;32m   3106\u001b[0m \u001b[1;33m\u001b[0m\u001b[0m\n\u001b[0;32m   3107\u001b[0m         transform_function = {\n",
      "\u001b[1;32mc:\\users\\td\\appdata\\local\\programs\\python\\python39\\lib\\site-packages\\sklearn\\preprocessing\\_data.py\u001b[0m in \u001b[0;36m_check_input\u001b[1;34m(self, X, in_fit, check_positive, check_shape, check_method)\u001b[0m\n\u001b[0;32m   3285\u001b[0m             \u001b[0mIf\u001b[0m \u001b[1;32mTrue\u001b[0m\u001b[1;33m,\u001b[0m \u001b[0mcheck\u001b[0m \u001b[0mthat\u001b[0m \u001b[0mthe\u001b[0m \u001b[0mtransformation\u001b[0m \u001b[0mmethod\u001b[0m \u001b[1;32mis\u001b[0m \u001b[0mvalid\u001b[0m\u001b[1;33m.\u001b[0m\u001b[1;33m\u001b[0m\u001b[1;33m\u001b[0m\u001b[0m\n\u001b[0;32m   3286\u001b[0m         \"\"\"\n\u001b[1;32m-> 3287\u001b[1;33m         X = self._validate_data(\n\u001b[0m\u001b[0;32m   3288\u001b[0m             \u001b[0mX\u001b[0m\u001b[1;33m,\u001b[0m\u001b[1;33m\u001b[0m\u001b[1;33m\u001b[0m\u001b[0m\n\u001b[0;32m   3289\u001b[0m             \u001b[0mensure_2d\u001b[0m\u001b[1;33m=\u001b[0m\u001b[1;32mTrue\u001b[0m\u001b[1;33m,\u001b[0m\u001b[1;33m\u001b[0m\u001b[1;33m\u001b[0m\u001b[0m\n",
      "\u001b[1;32mc:\\users\\td\\appdata\\local\\programs\\python\\python39\\lib\\site-packages\\sklearn\\base.py\u001b[0m in \u001b[0;36m_validate_data\u001b[1;34m(self, X, y, reset, validate_separately, **check_params)\u001b[0m\n\u001b[0;32m    598\u001b[0m \u001b[1;33m\u001b[0m\u001b[0m\n\u001b[0;32m    599\u001b[0m         \u001b[1;32mif\u001b[0m \u001b[1;32mnot\u001b[0m \u001b[0mno_val_X\u001b[0m \u001b[1;32mand\u001b[0m \u001b[0mcheck_params\u001b[0m\u001b[1;33m.\u001b[0m\u001b[0mget\u001b[0m\u001b[1;33m(\u001b[0m\u001b[1;34m\"ensure_2d\"\u001b[0m\u001b[1;33m,\u001b[0m \u001b[1;32mTrue\u001b[0m\u001b[1;33m)\u001b[0m\u001b[1;33m:\u001b[0m\u001b[1;33m\u001b[0m\u001b[1;33m\u001b[0m\u001b[0m\n\u001b[1;32m--> 600\u001b[1;33m             \u001b[0mself\u001b[0m\u001b[1;33m.\u001b[0m\u001b[0m_check_n_features\u001b[0m\u001b[1;33m(\u001b[0m\u001b[0mX\u001b[0m\u001b[1;33m,\u001b[0m \u001b[0mreset\u001b[0m\u001b[1;33m=\u001b[0m\u001b[0mreset\u001b[0m\u001b[1;33m)\u001b[0m\u001b[1;33m\u001b[0m\u001b[1;33m\u001b[0m\u001b[0m\n\u001b[0m\u001b[0;32m    601\u001b[0m \u001b[1;33m\u001b[0m\u001b[0m\n\u001b[0;32m    602\u001b[0m         \u001b[1;32mreturn\u001b[0m \u001b[0mout\u001b[0m\u001b[1;33m\u001b[0m\u001b[1;33m\u001b[0m\u001b[0m\n",
      "\u001b[1;32mc:\\users\\td\\appdata\\local\\programs\\python\\python39\\lib\\site-packages\\sklearn\\base.py\u001b[0m in \u001b[0;36m_check_n_features\u001b[1;34m(self, X, reset)\u001b[0m\n\u001b[0;32m    398\u001b[0m \u001b[1;33m\u001b[0m\u001b[0m\n\u001b[0;32m    399\u001b[0m         \u001b[1;32mif\u001b[0m \u001b[0mn_features\u001b[0m \u001b[1;33m!=\u001b[0m \u001b[0mself\u001b[0m\u001b[1;33m.\u001b[0m\u001b[0mn_features_in_\u001b[0m\u001b[1;33m:\u001b[0m\u001b[1;33m\u001b[0m\u001b[1;33m\u001b[0m\u001b[0m\n\u001b[1;32m--> 400\u001b[1;33m             raise ValueError(\n\u001b[0m\u001b[0;32m    401\u001b[0m                 \u001b[1;34mf\"X has {n_features} features, but {self.__class__.__name__} \"\u001b[0m\u001b[1;33m\u001b[0m\u001b[1;33m\u001b[0m\u001b[0m\n\u001b[0;32m    402\u001b[0m                 \u001b[1;34mf\"is expecting {self.n_features_in_} features as input.\"\u001b[0m\u001b[1;33m\u001b[0m\u001b[1;33m\u001b[0m\u001b[0m\n",
      "\u001b[1;31mValueError\u001b[0m: X has 796 features, but PowerTransformer is expecting 16 features as input."
     ]
    }
   ],
   "source": [
    "pipeline.predict(X[X['SK_ID_CURR']==100002])"
   ]
  },
  {
   "cell_type": "code",
   "execution_count": 90,
   "id": "a56a4edd",
   "metadata": {},
   "outputs": [
    {
     "ename": "NameError",
     "evalue": "name 'feature_importances' is not defined",
     "output_type": "error",
     "traceback": [
      "\u001b[1;31m---------------------------------------------------------------------------\u001b[0m",
      "\u001b[1;31mNameError\u001b[0m                                 Traceback (most recent call last)",
      "\u001b[1;32m<ipython-input-90-55d3d9cef4e3>\u001b[0m in \u001b[0;36m<module>\u001b[1;34m\u001b[0m\n\u001b[1;32m----> 1\u001b[1;33m \u001b[0mimportances\u001b[0m \u001b[1;33m=\u001b[0m \u001b[1;33m[\u001b[0m\u001b[0mt\u001b[0m\u001b[1;33m[\u001b[0m\u001b[1;36m1\u001b[0m\u001b[1;33m]\u001b[0m \u001b[1;32mfor\u001b[0m \u001b[0mt\u001b[0m \u001b[1;32min\u001b[0m \u001b[0mfeature_importances\u001b[0m\u001b[1;33m[\u001b[0m\u001b[1;36m1\u001b[0m\u001b[1;33m]\u001b[0m\u001b[1;33m]\u001b[0m\u001b[1;33m\u001b[0m\u001b[1;33m\u001b[0m\u001b[0m\n\u001b[0m\u001b[0;32m      2\u001b[0m \u001b[0mfeature_names\u001b[0m \u001b[1;33m=\u001b[0m \u001b[1;33m[\u001b[0m\u001b[0mt\u001b[0m\u001b[1;33m[\u001b[0m\u001b[1;36m0\u001b[0m\u001b[1;33m]\u001b[0m \u001b[1;32mfor\u001b[0m \u001b[0mt\u001b[0m \u001b[1;32min\u001b[0m \u001b[0mfeature_importances\u001b[0m\u001b[1;33m[\u001b[0m\u001b[1;36m1\u001b[0m\u001b[1;33m]\u001b[0m\u001b[1;33m]\u001b[0m\u001b[1;33m\u001b[0m\u001b[1;33m\u001b[0m\u001b[0m\n\u001b[0;32m      3\u001b[0m \u001b[0mselected_indices\u001b[0m \u001b[1;33m=\u001b[0m \u001b[1;33m[\u001b[0m\u001b[0mt\u001b[0m\u001b[1;33m[\u001b[0m\u001b[1;36m0\u001b[0m\u001b[1;33m]\u001b[0m \u001b[1;32mfor\u001b[0m \u001b[0mt\u001b[0m \u001b[1;32min\u001b[0m \u001b[0mfeature_importances\u001b[0m\u001b[1;33m[\u001b[0m\u001b[1;36m1\u001b[0m\u001b[1;33m]\u001b[0m\u001b[1;33m]\u001b[0m\u001b[1;33m\u001b[0m\u001b[1;33m\u001b[0m\u001b[0m\n\u001b[0;32m      4\u001b[0m \u001b[0mfeature_names\u001b[0m \u001b[1;33m=\u001b[0m \u001b[1;33m[\u001b[0m\u001b[0mselected_feature_names\u001b[0m\u001b[1;33m[\u001b[0m\u001b[0mi\u001b[0m\u001b[1;33m]\u001b[0m \u001b[1;32mfor\u001b[0m \u001b[0mi\u001b[0m \u001b[1;32min\u001b[0m \u001b[0mselected_indices\u001b[0m\u001b[1;33m]\u001b[0m\u001b[1;33m\u001b[0m\u001b[1;33m\u001b[0m\u001b[0m\n\u001b[0;32m      5\u001b[0m \u001b[0mdf_features_importance\u001b[0m \u001b[1;33m=\u001b[0m  \u001b[0mpd\u001b[0m\u001b[1;33m.\u001b[0m\u001b[0mDataFrame\u001b[0m\u001b[1;33m(\u001b[0m\u001b[0mlist\u001b[0m\u001b[1;33m(\u001b[0m\u001b[0mzip\u001b[0m\u001b[1;33m(\u001b[0m\u001b[0mfeature_names\u001b[0m\u001b[1;33m,\u001b[0m \u001b[0mimportances\u001b[0m\u001b[1;33m)\u001b[0m\u001b[1;33m)\u001b[0m\u001b[1;33m,\u001b[0m \u001b[0mcolumns\u001b[0m\u001b[1;33m=\u001b[0m\u001b[1;33m[\u001b[0m\u001b[1;34m'Features'\u001b[0m\u001b[1;33m,\u001b[0m \u001b[1;34m'Importance'\u001b[0m\u001b[1;33m]\u001b[0m\u001b[1;33m)\u001b[0m\u001b[1;33m\u001b[0m\u001b[1;33m\u001b[0m\u001b[0m\n",
      "\u001b[1;31mNameError\u001b[0m: name 'feature_importances' is not defined"
     ]
    }
   ],
   "source": [
    "\n",
    "importances = [t[1] for t in feature_importances[1]]\n",
    "feature_names = [t[0] for t in feature_importances[1]]\n",
    "selected_indices = [t[0] for t in feature_importances[1]]\n",
    "feature_names = [selected_feature_names[i] for i in selected_indices]\n",
    "df_features_importance =  pd.DataFrame(list(zip(feature_names, importances)), columns=['Features', 'Importance'])\n",
    "df_features_importance = df_features_importance.sort_values(by=['Importance'],ascending=True)\n",
    "# Créer un plot bar\n",
    "plt.figure(figsize=(10, 6))\n",
    "plt.barh(range(len(df_features_importance)), df_features_importance['Importance'], align='center')\n",
    "plt.yticks(range(len(df_features_importance)), df_features_importance['Features'])\n",
    "plt.ylabel('Feature')\n",
    "plt.xlabel('Importance')\n",
    "plt.title('Feature Importances')\n",
    "plt.show()"
   ]
  },
  {
   "cell_type": "markdown",
   "id": "9cba94bb",
   "metadata": {},
   "source": [
    "### Unit Test\n"
   ]
  },
  {
   "cell_type": "code",
   "execution_count": null,
   "id": "1c9f1af7",
   "metadata": {},
   "outputs": [],
   "source": [
    "# from my_module import score_metier\n",
    "import unittest\n",
    "class TestScoreMetier(unittest.TestCase):\n",
    "\n",
    "    def test_score_metier(self):\n",
    "        y_test = np.array([0, 1, 0, 1, 0, 1])\n",
    "        y_pred = np.array([0, 1, 1, 1, 0, 0])\n",
    "        expected_score = 20 # Calculé manuellement pour les entrées ci-dessus\n",
    "        self.assertEqual(score_metier(y_test, y_pred), expected_score)"
   ]
  },
  {
   "cell_type": "code",
   "execution_count": 29,
   "id": "dd87efc0",
   "metadata": {},
   "outputs": [],
   "source": [
    "df.to_csv('C:/Users/td/implement_scoring_loan/notebook/data.csv', index=False)"
   ]
  },
  {
   "cell_type": "code",
   "execution_count": 39,
   "id": "b0dff6a6",
   "metadata": {},
   "outputs": [],
   "source": [
    "data_df = pd.read_csv('C:/Users/td/implement_scoring_loan/api/df_api.csv')"
   ]
  },
  {
   "cell_type": "code",
   "execution_count": 67,
   "id": "c7ad0f30",
   "metadata": {},
   "outputs": [],
   "source": []
  },
  {
   "cell_type": "code",
   "execution_count": 82,
   "id": "0b10ba4e",
   "metadata": {},
   "outputs": [],
   "source": [
    "index_client = data_df[data_df['SK_ID_CURR'] == 100005].index[0]\n",
    "data_customer = data_df[selected_feature_names].iloc[index_client].values"
   ]
  },
  {
   "cell_type": "code",
   "execution_count": 83,
   "id": "49866447",
   "metadata": {},
   "outputs": [],
   "source": [
    "exp = explainer.explain_instance(data_customer,pipeline\n",
    "                                 .set_params(feature_selection=None)\n",
    "                                 .predict_proba, num_features=16)\n",
    "# Récupérer les caractéristiques sélectionnées pour l'explicat\n"
   ]
  },
  {
   "cell_type": "markdown",
   "id": "ebe0b59e",
   "metadata": {},
   "source": [
    "## Pipeline"
   ]
  },
  {
   "cell_type": "code",
   "execution_count": 20,
   "id": "f2631ce6",
   "metadata": {},
   "outputs": [],
   "source": [
    "def score_metier(y_true,y_pred):\n",
    "    cost_fn = 10 # Coût d'un FN est dix fois supérieur au coût d'un FP\n",
    "    cost_fp = 1\n",
    "    # Matrice de confusion pour calculer le nombre de FN et de FP\n",
    "    confusion_matrix = np.array([[np.sum((y_pred == 0) & (y_true == 0)), np.sum((y_pred == 1) & (y_true == 0))],\n",
    "                                 [np.sum((y_pred == 0) & (y_true == 1)), np.sum((y_pred == 1) & (y_true == 1))]])\n",
    "    score_metier = cost_fp * confusion_matrix[0,1] + cost_fn * confusion_matrix[1,0]\n",
    "    return score_metier"
   ]
  },
  {
   "cell_type": "code",
   "execution_count": 21,
   "id": "1b842297",
   "metadata": {},
   "outputs": [],
   "source": [
    "# Step 1 : Sampling\n",
    "over = SMOTE(sampling_strategy=0.2)\n",
    "under = RandomUnderSampler(sampling_strategy=0.4)\n",
    "\n",
    "# Step 2 : feature selection\n",
    "# selector = SelectPercentile(score_func=f_classif, percentile=2)\n",
    "selector = ColumnTransformer(\n",
    "    transformers=[('select', 'passthrough', feature_names)],\n",
    "    remainder='drop'\n",
    ")\n",
    "\n",
    "# Step 3 : Preprocessor\n",
    "preprocessor=PowerTransformer(method='yeo-johnson',standardize=True)\n",
    "\n",
    "# Step 4 : Model\n",
    "model_saved=LogisticRegression()"
   ]
  },
  {
   "cell_type": "code",
   "execution_count": 22,
   "id": "eaf8fc29",
   "metadata": {},
   "outputs": [],
   "source": [
    "cv = StratifiedKFold(n_splits=5)"
   ]
  },
  {
   "cell_type": "code",
   "execution_count": 23,
   "id": "d6d13dd7",
   "metadata": {},
   "outputs": [],
   "source": [
    "# Pipeline\n",
    "\n",
    "sampling_pipeline = ImbPipeline(steps=[\n",
    "    ('over', over),\n",
    "    ('under', under)])\n",
    "                             \n",
    "pipeline = Pipeline(steps=[\n",
    "    ('feature_selection', selector),\n",
    "    ('preprocessor',preprocessor),\n",
    "    ('model', model_saved)\n",
    "])"
   ]
  },
  {
   "cell_type": "code",
   "execution_count": 24,
   "id": "54f1464a",
   "metadata": {},
   "outputs": [],
   "source": [
    "X_train, X_test, y_train, y_test = train_test_split(X, y, test_size=0.2, random_state=42)"
   ]
  },
  {
   "cell_type": "code",
   "execution_count": 25,
   "id": "aa6b176c",
   "metadata": {},
   "outputs": [],
   "source": [
    "def train_model(X,y,model_name, model_params, preprocessor, cv):\n",
    "    \n",
    "    gscv = GridSearchCV(pipeline, param_grid=model_params, cv=cv, scoring='accuracy', n_jobs=-1)\n",
    "    gscv.fit(X_resampled, y_resampled)\n",
    "    gscv_best = gscv.best_estimator_\n",
    "#     for i, params in enumerate(gscv.cv_results_['params']):\n",
    "    with mlflow.start_run(run_name=model):\n",
    "#         mlflow.log_params(gscv_best.best_params)\n",
    "        mlflow.log_params(gscv.best_params_)\n",
    "        mlflow.sklearn.log_model(gscv_best, \"modele_regression_logistique_without_preprocessor\")\n",
    "        probabilities = gscv_best.predict_proba(X_test_new)\n",
    "        threshold = 0.7\n",
    "        y_pred = np.where(probabilities[:, 1] >= threshold, 1, 0)\n",
    "        mlflow.log_metric(\"score_auc\", roc_auc_score(y_test, y_pred))\n",
    "        mlflow.log_metric('score_metier', score_metier(y_test, y_pred))"
   ]
  },
  {
   "cell_type": "code",
   "execution_count": 26,
   "id": "e813de3e",
   "metadata": {},
   "outputs": [],
   "source": [
    "param_log_reg = {'model__penalty': ['l1', 'l2'],\n",
    "                 'model__C': np.logspace(-4, 4, 20)}\n",
    "\n",
    "param_knn = {'model__n_neighbors': [3, 5, 11],\n",
    "             'model__weights': ['uniform', 'distance'],\n",
    "             'model__algorithm': ['auto', 'ball_tree']}\n",
    "\n",
    "\n",
    "param_svm = {'model__C': [0.1, 1, 10],\n",
    "             'model__kernel': ['linear', 'poly'],\n",
    "             'model__gamma': ['scale', 'auto']}\n",
    "\n",
    "param_rf = {'model__n_estimators': [100, 200],\n",
    "            'model__max_depth': [5, 20],\n",
    "            'model__min_samples_split': [2, 5],\n",
    "            'model__min_samples_leaf': [1, 2,],\n",
    "            'model__max_features': ['auto', 'sqrt'],\n",
    "            'model__bootstrap': [True, False]}\n",
    "\n",
    "param_gbm = {'model__learning_rate': [0.1, 0.2],\n",
    "             'model__n_estimators': [100, 200],\n",
    "             'model__max_depth': [3, 4, 5]}\n",
    "\n",
    "param_Xgboost = {'model__n_estimators': [50,100],\n",
    "                 'model__max_depth': [3, 4],\n",
    "                 'model__learning_rate': [0.01, 0.2]}"
   ]
  },
  {
   "cell_type": "code",
   "execution_count": 27,
   "id": "a6e6a770",
   "metadata": {},
   "outputs": [],
   "source": [
    "# Dictionnaire de classifieurs \n",
    "models_ = { 'Logistic Regression':{'model':LogisticRegression(),'params':param_log_reg},\n",
    "           'KNN':{'model': KNeighborsClassifier(), 'params': param_knn},\n",
    "           'Gradient Booster Classifier':{'model': GradientBoostingClassifier(), 'params': param_gbm},\n",
    "            'Xgboost':{'model': XGBClassifier(), 'params':param_Xgboost}\n",
    "              }"
   ]
  },
  {
   "cell_type": "code",
   "execution_count": 28,
   "id": "e4b3ae89",
   "metadata": {},
   "outputs": [],
   "source": [
    "X_resampled,y_resampled = sampling_pipeline.fit_resample(X_train,y_train)"
   ]
  },
  {
   "cell_type": "code",
   "execution_count": null,
   "id": "1a5b256c",
   "metadata": {},
   "outputs": [],
   "source": [
    "mlflow.set_experiment('Scoring_loan_classifier')\n",
    "for model in models_.keys():\n",
    "    train_model(X_resampled,y_resampled,models_[model]['model'],models_[model]['params'],preprocessor,cv)"
   ]
  },
  {
   "cell_type": "code",
   "execution_count": null,
   "id": "853eaade",
   "metadata": {},
   "outputs": [],
   "source": []
  },
  {
   "cell_type": "code",
   "execution_count": null,
   "id": "cef1ee88",
   "metadata": {},
   "outputs": [],
   "source": []
  },
  {
   "cell_type": "code",
   "execution_count": null,
   "id": "f0efec51",
   "metadata": {},
   "outputs": [],
   "source": []
  },
  {
   "cell_type": "code",
   "execution_count": null,
   "id": "8cfb3fbb",
   "metadata": {},
   "outputs": [],
   "source": []
  },
  {
   "cell_type": "code",
   "execution_count": null,
   "id": "da4fe0b3",
   "metadata": {},
   "outputs": [],
   "source": []
  }
 ],
 "metadata": {
  "hide_input": false,
  "kernelspec": {
   "display_name": "Python 3",
   "language": "python",
   "name": "python3"
  },
  "language_info": {
   "codemirror_mode": {
    "name": "ipython",
    "version": 3
   },
   "file_extension": ".py",
   "mimetype": "text/x-python",
   "name": "python",
   "nbconvert_exporter": "python",
   "pygments_lexer": "ipython3",
   "version": "3.9.5"
  },
  "toc": {
   "base_numbering": 1,
   "nav_menu": {},
   "number_sections": true,
   "sideBar": true,
   "skip_h1_title": false,
   "title_cell": "Table of Contents",
   "title_sidebar": "Contents",
   "toc_cell": false,
   "toc_position": {},
   "toc_section_display": true,
   "toc_window_display": false
  }
 },
 "nbformat": 4,
 "nbformat_minor": 5
}
