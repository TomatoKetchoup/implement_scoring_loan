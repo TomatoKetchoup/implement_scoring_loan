{
 "cells": [
  {
   "cell_type": "markdown",
   "id": "dc104bcf",
   "metadata": {},
   "source": [
    "jupyter notebook --NotebookApp.iopub_data_rate_limit=7368709120"
   ]
  },
  {
   "cell_type": "code",
   "execution_count": 48,
   "id": "9865d27c",
   "metadata": {},
   "outputs": [
    {
     "name": "stdout",
     "output_type": "stream",
     "text": [
      "Once deleted, variables cannot be recovered. Proceed (y/[n])? y\n"
     ]
    }
   ],
   "source": [
    "# Reset memory\n",
    "\n",
    "%reset"
   ]
  },
  {
   "cell_type": "code",
   "execution_count": 49,
   "id": "fb34f8c8",
   "metadata": {},
   "outputs": [],
   "source": [
    "import warnings\n",
    "warnings.filterwarnings(\"ignore\")\n",
    "import joblib\n",
    "import mlflow"
   ]
  },
  {
   "cell_type": "code",
   "execution_count": 50,
   "id": "b922fc4c",
   "metadata": {},
   "outputs": [],
   "source": [
    "import numpy as np\n",
    "import pandas as pd\n",
    "import matplotlib.pyplot as plt\n",
    "from sklearn.model_selection import train_test_split\n",
    "from sklearn.dummy import DummyClassifier\n",
    "from sklearn.metrics import plot_confusion_matrix\n",
    "from scipy.stats import spearmanr\n",
    "import imblearn\n",
    "from imblearn.over_sampling import SMOTE\n",
    "from sklearn.metrics import accuracy_score\n",
    "from sklearn.metrics import ConfusionMatrixDisplay\n",
    "import pickle\n",
    "from imblearn.under_sampling import RandomUnderSampler\n",
    "from imblearn.pipeline import Pipeline\n",
    "from sklearn.model_selection import StratifiedKFold\n",
    "from sklearn.compose import ColumnTransformer"
   ]
  },
  {
   "cell_type": "code",
   "execution_count": 51,
   "id": "8d56ffb3",
   "metadata": {},
   "outputs": [],
   "source": [
    "import xgboost as XGBClassifier\n",
    "from sklearn.linear_model import LogisticRegression\n",
    "from sklearn.pipeline import make_pipeline,Pipeline\n",
    "from sklearn.preprocessing import PowerTransformer\n",
    "from sklearn.compose import make_column_selector\n",
    "from sklearn.compose import make_column_transformer\n",
    "from sklearn.compose import TransformedTargetRegressor\n",
    "from sklearn.model_selection import GridSearchCV\n",
    "import xgboost\n",
    "from xgboost import XGBClassifier\n",
    "import lime\n",
    "import lime.lime_tabular\n",
    "from sklearn.feature_selection import SelectPercentile, f_classif\n"
   ]
  },
  {
   "cell_type": "code",
   "execution_count": 53,
   "id": "0917621c",
   "metadata": {},
   "outputs": [],
   "source": [
    "df = pd.read_csv('C:/Users/td/implement_scoring_loan/notebook/data_cleaned.csv')"
   ]
  },
  {
   "cell_type": "markdown",
   "id": "6b5164fc",
   "metadata": {},
   "source": [
    "# Imbalanced Class"
   ]
  },
  {
   "cell_type": "code",
   "execution_count": null,
   "id": "426cf482",
   "metadata": {},
   "outputs": [],
   "source": [
    "# summarize the class distribution\n",
    "from collections import Counter\n",
    "\n",
    "target = df.values[:,2]\n",
    "counter = Counter(target)\n",
    "for k,v in counter.items():\n",
    "    per = v / len(target) * 100\n",
    "    print('Class=%d, Count=%d, Percentage=%.3f%%' % (k, v, per))"
   ]
  },
  {
   "cell_type": "code",
   "execution_count": null,
   "id": "163c12ae",
   "metadata": {},
   "outputs": [],
   "source": [
    "X=df.drop(['TARGET'],axis=1)\n",
    "y=df['TARGET']"
   ]
  },
  {
   "cell_type": "code",
   "execution_count": null,
   "id": "98dbd4e4",
   "metadata": {},
   "outputs": [],
   "source": [
    "from imblearn.under_sampling import RandomUnderSampler\n",
    "from imblearn.pipeline import Pipeline\n",
    "# Séparation des données en données d'entraînement et de test\n",
    "X_train, X_test, y_train, y_test = train_test_split(X, y, test_size=0.2, random_state=39)\n",
    "\n",
    "# Équilibrage des données en utilisant SMOTE\n",
    "over = SMOTE(sampling_strategy=0.1)\n",
    "under = RandomUnderSampler(sampling_strategy=0.5)\n",
    "\n",
    "steps = [('o', over), ('u', under)]\n",
    "pipeline = Pipeline(steps=steps)\n",
    "\n",
    "# transform the dataset\n",
    "X_train_resampled, y_train_resampled= pipeline.fit_resample(X_train, y_train)"
   ]
  },
  {
   "cell_type": "code",
   "execution_count": null,
   "id": "fff85bb3",
   "metadata": {},
   "outputs": [],
   "source": [
    "y_train_resampled.value_counts()/len(y_train_resampled)"
   ]
  },
  {
   "cell_type": "markdown",
   "id": "13e9950f",
   "metadata": {},
   "source": [
    "# Features Selection"
   ]
  },
  {
   "cell_type": "code",
   "execution_count": null,
   "id": "ef8fd04e",
   "metadata": {},
   "outputs": [],
   "source": [
    "# Sélection des caractéristiques les plus importantes\n",
    "selector = SelectPercentile(score_func=f_classif, percentile=2)\n",
    "X_train_new = selector.fit_transform(X_train_resampled, y_train_resampled)\n",
    "X_test_new = selector.transform(X_test)"
   ]
  },
  {
   "cell_type": "code",
   "execution_count": null,
   "id": "d0bd8e9a",
   "metadata": {},
   "outputs": [],
   "source": [
    "data = X_train_resampled.iloc[0]\n"
   ]
  },
  {
   "cell_type": "code",
   "execution_count": null,
   "id": "429812e2",
   "metadata": {},
   "outputs": [],
   "source": [
    "# Obtention des scores des caractéristiques\n",
    "scores = selector.scores_\n",
    "\n",
    "# Obtention des noms des caractéristiques\n",
    "feature_names = X.columns.values\n",
    "\n",
    "# Obtention d'un tableau booléen indiquant les caractéristiques sélectionnées\n",
    "mask = selector.get_support()\n",
    "\n",
    "# Obtention des noms et des scores des caractéristiques sélectionnées\n",
    "selected_feature_names = feature_names[mask]\n",
    "selected_scores = scores[mask]\n",
    "\n",
    "# Tri des noms et des scores par ordre décroissant de score\n",
    "sorted_indices = np.argsort(selected_scores)\n",
    "sorted_feature_names = selected_feature_names[sorted_indices]\n",
    "sorted_scores = selected_scores[sorted_indices]\n",
    "\n",
    "# Création d'un barplot trié par ordre décroissant de score\n",
    "plt.figure(figsize=(10, 20))\n",
    "plt.barh(sorted_feature_names, sorted_scores)\n",
    "plt.xlabel('Score')\n",
    "plt.ylabel('Caractéristiques')\n",
    "plt.title('Importance des caractéristiques')\n",
    "\n",
    "# Inclinaison des noms de variables à un angle de 45 degrés\n",
    "plt.xticks(rotation=45)\n",
    "\n",
    "plt.show()\n"
   ]
  },
  {
   "cell_type": "markdown",
   "id": "b1b28a34",
   "metadata": {},
   "source": [
    "# Dummy"
   ]
  },
  {
   "cell_type": "markdown",
   "id": "a4c97f10",
   "metadata": {},
   "source": [
    "Before we can improve our model, we need a baseline."
   ]
  },
  {
   "cell_type": "code",
   "execution_count": null,
   "id": "17890727",
   "metadata": {},
   "outputs": [],
   "source": [
    "clf_dummy = DummyClassifier(random_state=39) \n",
    "#establishing random_state for reproducibility\n",
    "clf_dummy.fit(X_train_new ,y_train_resampled)\n",
    "y_pred = clf_dummy.predict(X_test_new)"
   ]
  },
  {
   "cell_type": "code",
   "execution_count": null,
   "id": "e950e749",
   "metadata": {},
   "outputs": [],
   "source": [
    "ConfusionMatrixDisplay.from_predictions(y_test,y_pred);"
   ]
  },
  {
   "cell_type": "markdown",
   "id": "11056d05",
   "metadata": {},
   "source": [
    "## MLFLOW UI"
   ]
  },
  {
   "cell_type": "code",
   "execution_count": null,
   "id": "20237116",
   "metadata": {},
   "outputs": [],
   "source": [
    "cv = StratifiedKFold(n_splits=5)"
   ]
  },
  {
   "cell_type": "code",
   "execution_count": null,
   "id": "24c34fd9",
   "metadata": {},
   "outputs": [],
   "source": [
    "def log_mlflow(model):\n",
    "    # Track params and metrics \n",
    "    with mlflow.start_run() as run:\n",
    "        mlflow.set_tag(\"model_name\", name)\n",
    "        mlflow.log_param(\"Colums\", paramgrid)\n",
    "        # Save model to artifacts\n",
    "        pipe = Pipeline(steps=[('preprocessor', preprocessor), ('model', models_[model_]['model'])])\n",
    "        gscv = GridSearchCV(pipe, param_grid=models_[model_]['params'], cv=cv,scoring='accuracy')\n",
    "        gscv.fit(X_train_resampled,y_train_resampled)\n",
    "        mlflow.sklearn.log_model(gscv.best_estimator_, name)\n",
    "        accuracy = round(accuracy_score(y_test, y_pred), 4)\n",
    "        auc = roc_auc_score(y_test, y_pred)\n",
    "        mlflow.log_metric(\"auc\", auc)\n",
    "        mlflow.log_metric(\"accuracy\", accuracy)\n",
    "        \n",
    "    mlflow.end_run()"
   ]
  },
  {
   "cell_type": "code",
   "execution_count": null,
   "id": "9c179e3a",
   "metadata": {},
   "outputs": [],
   "source": [
    "def score_metier(y_true, y_pred):\n",
    "    cost_fn = 10 # Coût d'un FN est dix fois supérieur au coût d'un FP\n",
    "    cost_fp = 1\n",
    "    # Matrice de confusion pour calculer le nombre de FN et de FP\n",
    "    confusion_matrix = np.array([[np.sum((y_pred == 0) & (y_true == 0)), np.sum((y_pred == 1) & (y_true == 0))],\n",
    "                                 [np.sum((y_pred == 0) & (y_true == 1)), np.sum((y_pred == 1) & (y_true == 1))]])\n",
    "    score_metier = cost_fp * confusion_matrix[0,1] + cost_fn * confusion_matrix[1,0]\n",
    "    return score_metier"
   ]
  },
  {
   "cell_type": "code",
   "execution_count": null,
   "id": "f536ff5a",
   "metadata": {},
   "outputs": [],
   "source": [
    "param_log_reg = {'model__penalty': ['l1', 'l2'],\n",
    "    'model__C': np.logspace(-4, 4, 20),\n",
    "    'model__solver': ['liblinear', 'saga']\n",
    "}\n",
    "\n",
    "param_Xgboost = {\n",
    "    'model__n_estimators': [50,100],\n",
    "    'model__max_depth': [3, 4],\n",
    "    'model__learning_rate': [0.01, 0.2]\n",
    "}"
   ]
  },
  {
   "cell_type": "code",
   "execution_count": null,
   "id": "24060d74",
   "metadata": {},
   "outputs": [],
   "source": [
    "# Dictionnaire de classifieurs \n",
    "models_ = { 'Logistic Regression':{'model':LogisticRegression(),'params':param_log_reg},\n",
    "            'Xgboost':{'model': XGBClassifier(), 'params':param_Xgboost}\n",
    "              }"
   ]
  },
  {
   "cell_type": "code",
   "execution_count": null,
   "id": "f0d90a8d",
   "metadata": {
    "scrolled": false
   },
   "outputs": [],
   "source": [
    "# Dictionnaire de classifieurs \n",
    "models_ = { 'Logistic Regression':{'model':LogisticRegression(),'params':param_log_reg},\n",
    "            'Xgboost':{'model': XGBClassifier(), 'params':param_Xgboost}\n",
    "              }\n",
    "mlflow.set_tracking_uri('http://localhost:5000')\n",
    "mlflow.sklearn.autolog()\n",
    "\n",
    "for model_ in models_.keys():\n",
    "    experiment_name = model_\n",
    "    mlflow.set_experiment(experiment_name)\n",
    "    \n",
    "    pipe = Pipeline(steps=[('preprocessor', preprocessor), ('model', models_[model_]['model'])])\n",
    "    gscv = GridSearchCV(pipe, param_grid=models_[model_]['params'], cv=cv,scoring='accuracy')\n",
    "    gscv.fit(X_train_resampled,y_train_resampled)\n",
    "    \n",
    "    with mlflow.start_run(run_name=model_):\n",
    "        mlflow.sklearn.log_model(gscv.best_estimator_, model_)\n",
    "        \n",
    "        # Evaluate the model on the test data\n",
    "\n",
    "        probabilities = pipe.predict_proba(X_test)\n",
    "        #Score metier\n",
    "        threshold = 0.7\n",
    "        y_pred = np.where(probabilities[:, 1] >= threshold, 1, 0)\n",
    "\n",
    "        cost_fn = 10  # coût d’un FN est dix fois supérieur au coût d’un FP\n",
    "        cost_fp = 1\n",
    "        # Matrice de confusion pour calculer le nombre de FN et de FP ## Voir proba avec seuil\n",
    "        confusion_matrix = np.array([[np.sum((y_pred == 0) & (y_test == 0)), np.sum((y_pred == 1) & (y_test == 0))],\n",
    "                                     [np.sum((y_pred == 0) & (y_test == 1)), np.sum((y_pred == 1) & (y_test == 1))]])\n",
    "        score_metier = cost_fp * confusion_matrix[0,1] + cost_fn * confusion_matrix[1,0]\n",
    "\n",
    "        # Log the model\n",
    "        mlflow.sklearn.log_model(pipe, \"model\")\n",
    "\n",
    "        # score_metier as metrics\n",
    "        accuracy = round(accuracy_score(y_test, y_pred), 4)\n",
    "        auc = roc_auc_score(y_test, y_pred)\n",
    "        mlflow.log_metric(\"auc\", auc)\n",
    "        mlflow.log_metric(\"accuracy\", accuracy)\n",
    "        mlflow.log_metric(\"score_metier\", score_metier)\n",
    "\n",
    "mlflow.end_run()"
   ]
  },
  {
   "cell_type": "code",
   "execution_count": null,
   "id": "668da959",
   "metadata": {},
   "outputs": [],
   "source": []
  },
  {
   "cell_type": "code",
   "execution_count": null,
   "id": "3e85b606",
   "metadata": {},
   "outputs": [],
   "source": [
    "# ## Erase experiment\n",
    "# from mlflow.tracking import MlflowClient\n",
    "\n",
    "# client = MlflowClient()\n",
    "# experiments = client.search_experiments(\"DummyClassifier\")\n",
    "# for experiment in experiments:\n",
    "#     client.delete_experiment(experiment.experiment_id)\n"
   ]
  },
  {
   "cell_type": "markdown",
   "id": "95a0819d",
   "metadata": {},
   "source": [
    "## STREAMLIT AND FASTAPI"
   ]
  },
  {
   "cell_type": "code",
   "execution_count": 13,
   "id": "c420cca8",
   "metadata": {},
   "outputs": [],
   "source": [
    "# Features selection\n",
    "selector = ColumnTransformer(\n",
    "    transformers=[('select', 'passthrough', selected_feature_names)],\n",
    "    remainder='drop'\n",
    ")"
   ]
  },
  {
   "cell_type": "code",
   "execution_count": 14,
   "id": "45c885b5",
   "metadata": {},
   "outputs": [],
   "source": [
    "# Transform Features\n",
    "\n",
    "preprocessor=PowerTransformer(method='yeo-johnson',standardize=True)"
   ]
  },
  {
   "cell_type": "code",
   "execution_count": 15,
   "id": "3c9402ca",
   "metadata": {},
   "outputs": [],
   "source": [
    "# Saving the selected model\n",
    "\n",
    "model_saved=LogisticRegression()"
   ]
  },
  {
   "cell_type": "code",
   "execution_count": 16,
   "id": "82bf104a",
   "metadata": {},
   "outputs": [],
   "source": [
    "pipeline = Pipeline(steps=[\n",
    "    ('feature_selection', selector), \n",
    "    ('preprocessing', preprocessor), \n",
    "    ('model', model_saved)\n",
    "])"
   ]
  },
  {
   "cell_type": "code",
   "execution_count": 17,
   "id": "4416f0c1",
   "metadata": {},
   "outputs": [
    {
     "data": {
      "text/html": [
       "<style>#sk-container-id-1 {color: black;background-color: white;}#sk-container-id-1 pre{padding: 0;}#sk-container-id-1 div.sk-toggleable {background-color: white;}#sk-container-id-1 label.sk-toggleable__label {cursor: pointer;display: block;width: 100%;margin-bottom: 0;padding: 0.3em;box-sizing: border-box;text-align: center;}#sk-container-id-1 label.sk-toggleable__label-arrow:before {content: \"▸\";float: left;margin-right: 0.25em;color: #696969;}#sk-container-id-1 label.sk-toggleable__label-arrow:hover:before {color: black;}#sk-container-id-1 div.sk-estimator:hover label.sk-toggleable__label-arrow:before {color: black;}#sk-container-id-1 div.sk-toggleable__content {max-height: 0;max-width: 0;overflow: hidden;text-align: left;background-color: #f0f8ff;}#sk-container-id-1 div.sk-toggleable__content pre {margin: 0.2em;color: black;border-radius: 0.25em;background-color: #f0f8ff;}#sk-container-id-1 input.sk-toggleable__control:checked~div.sk-toggleable__content {max-height: 200px;max-width: 100%;overflow: auto;}#sk-container-id-1 input.sk-toggleable__control:checked~label.sk-toggleable__label-arrow:before {content: \"▾\";}#sk-container-id-1 div.sk-estimator input.sk-toggleable__control:checked~label.sk-toggleable__label {background-color: #d4ebff;}#sk-container-id-1 div.sk-label input.sk-toggleable__control:checked~label.sk-toggleable__label {background-color: #d4ebff;}#sk-container-id-1 input.sk-hidden--visually {border: 0;clip: rect(1px 1px 1px 1px);clip: rect(1px, 1px, 1px, 1px);height: 1px;margin: -1px;overflow: hidden;padding: 0;position: absolute;width: 1px;}#sk-container-id-1 div.sk-estimator {font-family: monospace;background-color: #f0f8ff;border: 1px dotted black;border-radius: 0.25em;box-sizing: border-box;margin-bottom: 0.5em;}#sk-container-id-1 div.sk-estimator:hover {background-color: #d4ebff;}#sk-container-id-1 div.sk-parallel-item::after {content: \"\";width: 100%;border-bottom: 1px solid gray;flex-grow: 1;}#sk-container-id-1 div.sk-label:hover label.sk-toggleable__label {background-color: #d4ebff;}#sk-container-id-1 div.sk-serial::before {content: \"\";position: absolute;border-left: 1px solid gray;box-sizing: border-box;top: 0;bottom: 0;left: 50%;z-index: 0;}#sk-container-id-1 div.sk-serial {display: flex;flex-direction: column;align-items: center;background-color: white;padding-right: 0.2em;padding-left: 0.2em;position: relative;}#sk-container-id-1 div.sk-item {position: relative;z-index: 1;}#sk-container-id-1 div.sk-parallel {display: flex;align-items: stretch;justify-content: center;background-color: white;position: relative;}#sk-container-id-1 div.sk-item::before, #sk-container-id-1 div.sk-parallel-item::before {content: \"\";position: absolute;border-left: 1px solid gray;box-sizing: border-box;top: 0;bottom: 0;left: 50%;z-index: -1;}#sk-container-id-1 div.sk-parallel-item {display: flex;flex-direction: column;z-index: 1;position: relative;background-color: white;}#sk-container-id-1 div.sk-parallel-item:first-child::after {align-self: flex-end;width: 50%;}#sk-container-id-1 div.sk-parallel-item:last-child::after {align-self: flex-start;width: 50%;}#sk-container-id-1 div.sk-parallel-item:only-child::after {width: 0;}#sk-container-id-1 div.sk-dashed-wrapped {border: 1px dashed gray;margin: 0 0.4em 0.5em 0.4em;box-sizing: border-box;padding-bottom: 0.4em;background-color: white;}#sk-container-id-1 div.sk-label label {font-family: monospace;font-weight: bold;display: inline-block;line-height: 1.2em;}#sk-container-id-1 div.sk-label-container {text-align: center;}#sk-container-id-1 div.sk-container {/* jupyter's `normalize.less` sets `[hidden] { display: none; }` but bootstrap.min.css set `[hidden] { display: none !important; }` so we also need the `!important` here to be able to override the default hidden behavior on the sphinx rendered scikit-learn.org. See: https://github.com/scikit-learn/scikit-learn/issues/21755 */display: inline-block !important;position: relative;}#sk-container-id-1 div.sk-text-repr-fallback {display: none;}</style><div id=\"sk-container-id-1\" class=\"sk-top-container\"><div class=\"sk-text-repr-fallback\"><pre>Pipeline(steps=[(&#x27;feature_selection&#x27;,\n",
       "                 ColumnTransformer(transformers=[(&#x27;select&#x27;, &#x27;passthrough&#x27;,\n",
       "                                                  array([&#x27;CODE_GENDER&#x27;, &#x27;DAYS_BIRTH&#x27;, &#x27;DAYS_EMPLOYED&#x27;, &#x27;EXT_SOURCE_1&#x27;,\n",
       "       &#x27;EXT_SOURCE_2&#x27;, &#x27;EXT_SOURCE_3&#x27;, &#x27;DAYS_LAST_PHONE_CHANGE&#x27;,\n",
       "       &#x27;NAME_EDUCATION_TYPE_Higher education&#x27;, &#x27;BURO_DAYS_CREDIT_MIN&#x27;,\n",
       "       &#x27;BURO_DAYS_CREDIT_MEAN&#x27;, &#x27;BURO_DAYS_CREDIT_UPDATE_MEAN&#x27;,\n",
       "       &#x27;BURO_CREDIT_ACTIVE_Active_MEAN&#x27;, &#x27;BURO_CREDIT_ACTIVE_Closed_MEAN&#x27;,\n",
       "       &#x27;PREV_NAME_CONTRACT_STATUS_Approved_MEAN&#x27;,\n",
       "       &#x27;PREV_NAME_CONTRACT_STATUS_Refused_MEAN&#x27;,\n",
       "       &#x27;PREV_CODE_REJECT_REASON_XAP_MEAN&#x27;], dtype=object))])),\n",
       "                (&#x27;preprocessing&#x27;, PowerTransformer()),\n",
       "                (&#x27;model&#x27;, LogisticRegression())])</pre><b>In a Jupyter environment, please rerun this cell to show the HTML representation or trust the notebook. <br />On GitHub, the HTML representation is unable to render, please try loading this page with nbviewer.org.</b></div><div class=\"sk-container\" hidden><div class=\"sk-item sk-dashed-wrapped\"><div class=\"sk-label-container\"><div class=\"sk-label sk-toggleable\"><input class=\"sk-toggleable__control sk-hidden--visually\" id=\"sk-estimator-id-1\" type=\"checkbox\" ><label for=\"sk-estimator-id-1\" class=\"sk-toggleable__label sk-toggleable__label-arrow\">Pipeline</label><div class=\"sk-toggleable__content\"><pre>Pipeline(steps=[(&#x27;feature_selection&#x27;,\n",
       "                 ColumnTransformer(transformers=[(&#x27;select&#x27;, &#x27;passthrough&#x27;,\n",
       "                                                  array([&#x27;CODE_GENDER&#x27;, &#x27;DAYS_BIRTH&#x27;, &#x27;DAYS_EMPLOYED&#x27;, &#x27;EXT_SOURCE_1&#x27;,\n",
       "       &#x27;EXT_SOURCE_2&#x27;, &#x27;EXT_SOURCE_3&#x27;, &#x27;DAYS_LAST_PHONE_CHANGE&#x27;,\n",
       "       &#x27;NAME_EDUCATION_TYPE_Higher education&#x27;, &#x27;BURO_DAYS_CREDIT_MIN&#x27;,\n",
       "       &#x27;BURO_DAYS_CREDIT_MEAN&#x27;, &#x27;BURO_DAYS_CREDIT_UPDATE_MEAN&#x27;,\n",
       "       &#x27;BURO_CREDIT_ACTIVE_Active_MEAN&#x27;, &#x27;BURO_CREDIT_ACTIVE_Closed_MEAN&#x27;,\n",
       "       &#x27;PREV_NAME_CONTRACT_STATUS_Approved_MEAN&#x27;,\n",
       "       &#x27;PREV_NAME_CONTRACT_STATUS_Refused_MEAN&#x27;,\n",
       "       &#x27;PREV_CODE_REJECT_REASON_XAP_MEAN&#x27;], dtype=object))])),\n",
       "                (&#x27;preprocessing&#x27;, PowerTransformer()),\n",
       "                (&#x27;model&#x27;, LogisticRegression())])</pre></div></div></div><div class=\"sk-serial\"><div class=\"sk-item sk-dashed-wrapped\"><div class=\"sk-label-container\"><div class=\"sk-label sk-toggleable\"><input class=\"sk-toggleable__control sk-hidden--visually\" id=\"sk-estimator-id-2\" type=\"checkbox\" ><label for=\"sk-estimator-id-2\" class=\"sk-toggleable__label sk-toggleable__label-arrow\">feature_selection: ColumnTransformer</label><div class=\"sk-toggleable__content\"><pre>ColumnTransformer(transformers=[(&#x27;select&#x27;, &#x27;passthrough&#x27;,\n",
       "                                 array([&#x27;CODE_GENDER&#x27;, &#x27;DAYS_BIRTH&#x27;, &#x27;DAYS_EMPLOYED&#x27;, &#x27;EXT_SOURCE_1&#x27;,\n",
       "       &#x27;EXT_SOURCE_2&#x27;, &#x27;EXT_SOURCE_3&#x27;, &#x27;DAYS_LAST_PHONE_CHANGE&#x27;,\n",
       "       &#x27;NAME_EDUCATION_TYPE_Higher education&#x27;, &#x27;BURO_DAYS_CREDIT_MIN&#x27;,\n",
       "       &#x27;BURO_DAYS_CREDIT_MEAN&#x27;, &#x27;BURO_DAYS_CREDIT_UPDATE_MEAN&#x27;,\n",
       "       &#x27;BURO_CREDIT_ACTIVE_Active_MEAN&#x27;, &#x27;BURO_CREDIT_ACTIVE_Closed_MEAN&#x27;,\n",
       "       &#x27;PREV_NAME_CONTRACT_STATUS_Approved_MEAN&#x27;,\n",
       "       &#x27;PREV_NAME_CONTRACT_STATUS_Refused_MEAN&#x27;,\n",
       "       &#x27;PREV_CODE_REJECT_REASON_XAP_MEAN&#x27;], dtype=object))])</pre></div></div></div><div class=\"sk-parallel\"><div class=\"sk-parallel-item\"><div class=\"sk-item\"><div class=\"sk-label-container\"><div class=\"sk-label sk-toggleable\"><input class=\"sk-toggleable__control sk-hidden--visually\" id=\"sk-estimator-id-3\" type=\"checkbox\" ><label for=\"sk-estimator-id-3\" class=\"sk-toggleable__label sk-toggleable__label-arrow\">select</label><div class=\"sk-toggleable__content\"><pre>[&#x27;CODE_GENDER&#x27; &#x27;DAYS_BIRTH&#x27; &#x27;DAYS_EMPLOYED&#x27; &#x27;EXT_SOURCE_1&#x27; &#x27;EXT_SOURCE_2&#x27;\n",
       " &#x27;EXT_SOURCE_3&#x27; &#x27;DAYS_LAST_PHONE_CHANGE&#x27;\n",
       " &#x27;NAME_EDUCATION_TYPE_Higher education&#x27; &#x27;BURO_DAYS_CREDIT_MIN&#x27;\n",
       " &#x27;BURO_DAYS_CREDIT_MEAN&#x27; &#x27;BURO_DAYS_CREDIT_UPDATE_MEAN&#x27;\n",
       " &#x27;BURO_CREDIT_ACTIVE_Active_MEAN&#x27; &#x27;BURO_CREDIT_ACTIVE_Closed_MEAN&#x27;\n",
       " &#x27;PREV_NAME_CONTRACT_STATUS_Approved_MEAN&#x27;\n",
       " &#x27;PREV_NAME_CONTRACT_STATUS_Refused_MEAN&#x27;\n",
       " &#x27;PREV_CODE_REJECT_REASON_XAP_MEAN&#x27;]</pre></div></div></div><div class=\"sk-serial\"><div class=\"sk-item\"><div class=\"sk-estimator sk-toggleable\"><input class=\"sk-toggleable__control sk-hidden--visually\" id=\"sk-estimator-id-4\" type=\"checkbox\" ><label for=\"sk-estimator-id-4\" class=\"sk-toggleable__label sk-toggleable__label-arrow\">passthrough</label><div class=\"sk-toggleable__content\"><pre>passthrough</pre></div></div></div></div></div></div></div></div><div class=\"sk-item\"><div class=\"sk-estimator sk-toggleable\"><input class=\"sk-toggleable__control sk-hidden--visually\" id=\"sk-estimator-id-5\" type=\"checkbox\" ><label for=\"sk-estimator-id-5\" class=\"sk-toggleable__label sk-toggleable__label-arrow\">PowerTransformer</label><div class=\"sk-toggleable__content\"><pre>PowerTransformer()</pre></div></div></div><div class=\"sk-item\"><div class=\"sk-estimator sk-toggleable\"><input class=\"sk-toggleable__control sk-hidden--visually\" id=\"sk-estimator-id-6\" type=\"checkbox\" ><label for=\"sk-estimator-id-6\" class=\"sk-toggleable__label sk-toggleable__label-arrow\">LogisticRegression</label><div class=\"sk-toggleable__content\"><pre>LogisticRegression()</pre></div></div></div></div></div></div></div>"
      ],
      "text/plain": [
       "Pipeline(steps=[('feature_selection',\n",
       "                 ColumnTransformer(transformers=[('select', 'passthrough',\n",
       "                                                  array(['CODE_GENDER', 'DAYS_BIRTH', 'DAYS_EMPLOYED', 'EXT_SOURCE_1',\n",
       "       'EXT_SOURCE_2', 'EXT_SOURCE_3', 'DAYS_LAST_PHONE_CHANGE',\n",
       "       'NAME_EDUCATION_TYPE_Higher education', 'BURO_DAYS_CREDIT_MIN',\n",
       "       'BURO_DAYS_CREDIT_MEAN', 'BURO_DAYS_CREDIT_UPDATE_MEAN',\n",
       "       'BURO_CREDIT_ACTIVE_Active_MEAN', 'BURO_CREDIT_ACTIVE_Closed_MEAN',\n",
       "       'PREV_NAME_CONTRACT_STATUS_Approved_MEAN',\n",
       "       'PREV_NAME_CONTRACT_STATUS_Refused_MEAN',\n",
       "       'PREV_CODE_REJECT_REASON_XAP_MEAN'], dtype=object))])),\n",
       "                ('preprocessing', PowerTransformer()),\n",
       "                ('model', LogisticRegression())])"
      ]
     },
     "execution_count": 17,
     "metadata": {},
     "output_type": "execute_result"
    }
   ],
   "source": [
    "# Fit model\n",
    "\n",
    "pipeline.fit(X,y)"
   ]
  },
  {
   "cell_type": "code",
   "execution_count": 18,
   "id": "d378854a",
   "metadata": {},
   "outputs": [
    {
     "data": {
      "text/plain": [
       "['C:/Users/td/implement_scoring_loan/api/scoring_loan.joblib']"
      ]
     },
     "execution_count": 18,
     "metadata": {},
     "output_type": "execute_result"
    }
   ],
   "source": [
    "# Saving model for fastapi\n",
    "\n",
    "joblib.dump(pipeline, 'C:/Users/td/implement_scoring_loan/api/scoring_loan.joblib')"
   ]
  },
  {
   "cell_type": "markdown",
   "id": "e755c2ae",
   "metadata": {},
   "source": [
    "## LIME : FEATURE LOCAL"
   ]
  },
  {
   "cell_type": "code",
   "execution_count": 19,
   "id": "1b867c57",
   "metadata": {},
   "outputs": [],
   "source": [
    "with open('C:/Users/td/implement_scoring_loan/api/selected_feature_names.pkl', 'wb') as f:\n",
    "    pickle.dump(selected_feature_names, f)\n",
    "    \n",
    "with open('C:/Users/td/implement_scoring_loan/api/X_train_new.pkl', 'wb') as f:\n",
    "    pickle.dump(X_train_new, f)"
   ]
  },
  {
   "cell_type": "code",
   "execution_count": 20,
   "id": "ea1504db",
   "metadata": {},
   "outputs": [
    {
     "data": {
      "text/plain": [
       "(67830, 16)"
      ]
     },
     "execution_count": 20,
     "metadata": {},
     "output_type": "execute_result"
    }
   ],
   "source": [
    "data=X_train_resampled[selected_feature_names].values\n",
    "data.shape"
   ]
  },
  {
   "cell_type": "code",
   "execution_count": 47,
   "id": "dfd80396",
   "metadata": {},
   "outputs": [
    {
     "data": {
      "text/plain": [
       "[0.6227940245226543, 0.3772059754773457]"
      ]
     },
     "execution_count": 47,
     "metadata": {},
     "output_type": "execute_result"
    }
   ],
   "source": [
    "exp.predict_proba.tolist()"
   ]
  },
  {
   "cell_type": "code",
   "execution_count": 37,
   "id": "63884b3a",
   "metadata": {},
   "outputs": [
    {
     "data": {
      "text/plain": [
       "0"
      ]
     },
     "execution_count": 37,
     "metadata": {},
     "output_type": "execute_result"
    }
   ],
   "source": [
    "df[df['SK_ID_CURR'] == 100002].index[0]"
   ]
  },
  {
   "cell_type": "code",
   "execution_count": null,
   "id": "fcadd906",
   "metadata": {},
   "outputs": [],
   "source": []
  },
  {
   "cell_type": "code",
   "execution_count": 21,
   "id": "39b6284a",
   "metadata": {},
   "outputs": [],
   "source": [
    "explainer = lime.lime_tabular.LimeTabularExplainer(training_data=data,\n",
    "                                                   feature_names=selected_feature_names,\n",
    "                                                   class_names=['0','1'],\n",
    "                                                   discretize_continuous=True)"
   ]
  },
  {
   "cell_type": "code",
   "execution_count": 22,
   "id": "7408d912",
   "metadata": {},
   "outputs": [],
   "source": [
    "# Lime : local feature experience\n",
    "\n",
    "# Saving model for fastapi\n",
    "\n",
    "import dill\n",
    "\n",
    "with open('C:/Users/td/implement_scoring_loan/api/explainer.pkl', 'wb') as f:\n",
    "    dill.dump(explainer, f)"
   ]
  },
  {
   "cell_type": "code",
   "execution_count": 41,
   "id": "ee5916e9",
   "metadata": {},
   "outputs": [],
   "source": [
    "instance = X[selected_feature_names].values[0]"
   ]
  },
  {
   "cell_type": "code",
   "execution_count": 24,
   "id": "8c00121f",
   "metadata": {},
   "outputs": [],
   "source": [
    "exp = explainer.explain_instance(instance,pipeline\n",
    "                                 .set_params(feature_selection=None)\n",
    "                                 .predict_proba, num_features=16)\n",
    "# Récupérer les caractéristiques sélectionnées pour l'explicat\n"
   ]
  },
  {
   "cell_type": "code",
   "execution_count": 29,
   "id": "49c71097",
   "metadata": {},
   "outputs": [],
   "source": [
    "feature_importances = exp.as_map()"
   ]
  },
  {
   "cell_type": "code",
   "execution_count": 30,
   "id": "a56a4edd",
   "metadata": {},
   "outputs": [
    {
     "data": {
      "image/png": "[encoded data removed]",
      "text/plain": [
       "<Figure size 720x432 with 1 Axes>"
      ]
     },
     "metadata": {
      "needs_background": "light"
     },
     "output_type": "display_data"
    }
   ],
   "source": [
    "\n",
    "importances = [t[1] for t in feature_importances[1]]\n",
    "feature_names = [t[0] for t in feature_importances[1]]\n",
    "selected_indices = [t[0] for t in feature_importances[1]]\n",
    "feature_names = [selected_feature_names[i] for i in selected_indices]\n",
    "df_features_importance =  pd.DataFrame(list(zip(feature_names, importances)), columns=['Features', 'Importance'])\n",
    "df_features_importance = df_features_importance.sort_values(by=['Importance'],ascending=True)\n",
    "# Créer un plot bar\n",
    "plt.figure(figsize=(10, 6))\n",
    "plt.barh(range(len(df_features_importance)), df_features_importance['Importance'], align='center')\n",
    "plt.yticks(range(len(df_features_importance)), df_features_importance['Features'])\n",
    "plt.ylabel('Feature')\n",
    "plt.xlabel('Importance')\n",
    "plt.title('Feature Importances')\n",
    "plt.show()"
   ]
  },
  {
   "cell_type": "markdown",
   "id": "9cba94bb",
   "metadata": {},
   "source": [
    "### Unit Test\n"
   ]
  },
  {
   "cell_type": "code",
   "execution_count": null,
   "id": "1c9f1af7",
   "metadata": {},
   "outputs": [],
   "source": [
    "# from my_module import score_metier\n",
    "import unittest\n",
    "class TestScoreMetier(unittest.TestCase):\n",
    "\n",
    "    def test_score_metier(self):\n",
    "        y_test = np.array([0, 1, 0, 1, 0, 1])\n",
    "        y_pred = np.array([0, 1, 1, 1, 0, 0])\n",
    "        expected_score = 20 # Calculé manuellement pour les entrées ci-dessus\n",
    "        self.assertEqual(score_metier(y_test, y_pred), expected_score)"
   ]
  },
  {
   "cell_type": "code",
   "execution_count": 29,
   "id": "dd87efc0",
   "metadata": {},
   "outputs": [],
   "source": [
    "df.to_csv('C:/Users/td/implement_scoring_loan/notebook/data.csv', index=False)"
   ]
  },
  {
   "cell_type": "code",
   "execution_count": null,
   "id": "b0dff6a6",
   "metadata": {},
   "outputs": [],
   "source": [
    "model_saved."
   ]
  }
 ],
 "metadata": {
  "hide_input": false,
  "kernelspec": {
   "display_name": "Python 3",
   "language": "python",
   "name": "python3"
  },
  "language_info": {
   "codemirror_mode": {
    "name": "ipython",
    "version": 3
   },
   "file_extension": ".py",
   "mimetype": "text/x-python",
   "name": "python",
   "nbconvert_exporter": "python",
   "pygments_lexer": "ipython3",
   "version": "3.9.5"
  },
  "toc": {
   "base_numbering": 1,
   "nav_menu": {},
   "number_sections": true,
   "sideBar": true,
   "skip_h1_title": false,
   "title_cell": "Table of Contents",
   "title_sidebar": "Contents",
   "toc_cell": false,
   "toc_position": {},
   "toc_section_display": true,
   "toc_window_display": false
  }
 },
 "nbformat": 4,
 "nbformat_minor": 5
}
